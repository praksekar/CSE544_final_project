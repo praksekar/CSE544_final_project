{
  "nbformat": 4,
  "nbformat_minor": 0,
  "metadata": {
    "colab": {
      "name": "NewOutliers.ipynb",
      "provenance": [],
      "collapsed_sections": []
    },
    "kernelspec": {
      "name": "python3",
      "display_name": "Python 3"
    },
    "language_info": {
      "name": "python"
    }
  },
  "cells": [
    {
      "cell_type": "code",
      "execution_count": 143,
      "metadata": {
        "id": "LaZyppN_rqQ_"
      },
      "outputs": [],
      "source": [
        "import pandas as pd\n",
        "import numpy as np\n",
        "import datetime\n",
        "import math\n",
        "from math import *\n",
        "import matplotlib.pyplot as plt\n",
        "from scipy.stats import gamma\n",
        "import seaborn as sns\n",
        "from scipy.stats import poisson, geom, binom"
      ]
    },
    {
      "cell_type": "code",
      "source": [
        "from google.colab import drive\n",
        "drive.mount('/content/gdrive')\n",
        "%cd /content/gdrive/My Drive/Colab Notebooks"
      ],
      "metadata": {
        "colab": {
          "base_uri": "https://localhost:8080/"
        },
        "id": "nCj5UMaarsZr",
        "outputId": "8bdd9925-ef42-4477-d2b1-67b43078a7a1"
      },
      "execution_count": 198,
      "outputs": [
        {
          "output_type": "stream",
          "name": "stdout",
          "text": [
            "Drive already mounted at /content/gdrive; to attempt to forcibly remount, call drive.mount(\"/content/gdrive\", force_remount=True).\n",
            "/content/gdrive/My Drive/Colab Notebooks\n"
          ]
        }
      ]
    },
    {
      "cell_type": "code",
      "source": [
        "\n",
        "df = pd.read_csv(\"./Cases.csv\")\n",
        "# Getting total data based on State, MICHIGAN, MISSOURI\n",
        "df['conf_cases'] = df['conf_cases'].fillna(0)\n",
        "df['prob_cases'] = df['prob_cases'].fillna(0)\n",
        "df['pnew_case'] = df['pnew_case'].fillna(0)\n",
        "df['conf_death'] = df['conf_death'].fillna(0)\n",
        "df['prob_death'] = df['prob_death'].fillna(0)\n",
        "df['pnew_death'] = df['pnew_death'].fillna(0)"
      ],
      "metadata": {
        "id": "DJJaeRjsr4MF"
      },
      "execution_count": 199,
      "outputs": []
    },
    {
      "cell_type": "code",
      "source": [
        "df_mo = df[df['state'] == \"MO\"]\n",
        "df_mi = df[df['state'] == \"MI\"]\n",
        "df_mo[\"submission_date\"] = pd.to_datetime(df_mo[\"submission_date\"])\n",
        "df_mi[\"submission_date\"] = pd.to_datetime(df_mi[\"submission_date\"])\n",
        "df_mi.sort_values(by='submission_date', inplace=True)\n",
        "df_mo.sort_values(by='submission_date', inplace=True)\n",
        "df_mo = df_mo[['submission_date', 'new_case', 'new_death']]\n",
        "df_mi = df_mi[['submission_date', 'new_case', 'new_death']]"
      ],
      "metadata": {
        "colab": {
          "base_uri": "https://localhost:8080/"
        },
        "id": "pYMqx_ler5XB",
        "outputId": "d4f7f313-e3d6-4c7d-d228-d123f9123d5e"
      },
      "execution_count": 200,
      "outputs": [
        {
          "output_type": "stream",
          "name": "stderr",
          "text": [
            "/usr/local/lib/python3.7/dist-packages/ipykernel_launcher.py:3: SettingWithCopyWarning: \n",
            "A value is trying to be set on a copy of a slice from a DataFrame.\n",
            "Try using .loc[row_indexer,col_indexer] = value instead\n",
            "\n",
            "See the caveats in the documentation: https://pandas.pydata.org/pandas-docs/stable/user_guide/indexing.html#returning-a-view-versus-a-copy\n",
            "  This is separate from the ipykernel package so we can avoid doing imports until\n",
            "/usr/local/lib/python3.7/dist-packages/ipykernel_launcher.py:4: SettingWithCopyWarning: \n",
            "A value is trying to be set on a copy of a slice from a DataFrame.\n",
            "Try using .loc[row_indexer,col_indexer] = value instead\n",
            "\n",
            "See the caveats in the documentation: https://pandas.pydata.org/pandas-docs/stable/user_guide/indexing.html#returning-a-view-versus-a-copy\n",
            "  after removing the cwd from sys.path.\n",
            "/usr/local/lib/python3.7/dist-packages/pandas/util/_decorators.py:311: SettingWithCopyWarning: \n",
            "A value is trying to be set on a copy of a slice from a DataFrame\n",
            "\n",
            "See the caveats in the documentation: https://pandas.pydata.org/pandas-docs/stable/user_guide/indexing.html#returning-a-view-versus-a-copy\n",
            "  return func(*args, **kwargs)\n"
          ]
        }
      ]
    },
    {
      "cell_type": "code",
      "source": [
        "frames = [df_mi, df_mo]\n",
        "total_data = pd.merge(df_mi, df_mo, on='submission_date')\n",
        "total_data = total_data.rename(\n",
        "    columns={'submission_date':'Date','new_case_x': 'new_case_MO', 'new_case_y': 'new_case_MI','new_death_x': 'new_death_MO',\n",
        "             'new_death_y': 'new_death_MI'})\n",
        "# total_data[\"submission_date\"] = pd.to_datetime(total_data[\"submission_date\"])\n",
        "# total_data.sort_values(by=['state', 'submission_date'], inplace=True)\n",
        "total_data.to_csv('out.csv', encoding='utf-8', index=False)\n",
        "print(total_data.shape)\n",
        "# print(total_data.dtypes)\n",
        "# print(\"\\nGiving a space\")\n",
        "total_data[\"Year\"] = pd.Series(total_data[\"Date\"]).apply(lambda x: x.year)\n",
        "total_data[\"Month\"] = pd.Series(total_data[\"Date\"]).apply(lambda x: x.month)\n",
        "print(total_data.info())\n",
        "total_data = total_data.reindex(columns=['Date','new_case_MO','new_case_MI','new_death_MO','new_death_MI','Year','Month'])\n",
        "print(\"Starting and ending date is : \\n\" + str(total_data['Date'].min()) + \"Ending is : \" + str(\n",
        "    total_data['Date'].max()))\n",
        "print(\"***************Before Deleting Outlier Data**********************************\")"
      ],
      "metadata": {
        "colab": {
          "base_uri": "https://localhost:8080/"
        },
        "id": "sbLQIotkr-zV",
        "outputId": "221bbb69-a4db-4993-dd9f-14717823e1fe"
      },
      "execution_count": 201,
      "outputs": [
        {
          "output_type": "stream",
          "name": "stdout",
          "text": [
            "(841, 5)\n",
            "<class 'pandas.core.frame.DataFrame'>\n",
            "Int64Index: 841 entries, 0 to 840\n",
            "Data columns (total 7 columns):\n",
            " #   Column        Non-Null Count  Dtype         \n",
            "---  ------        --------------  -----         \n",
            " 0   Date          841 non-null    datetime64[ns]\n",
            " 1   new_case_MO   841 non-null    int64         \n",
            " 2   new_death_MO  841 non-null    int64         \n",
            " 3   new_case_MI   841 non-null    int64         \n",
            " 4   new_death_MI  841 non-null    int64         \n",
            " 5   Year          841 non-null    int64         \n",
            " 6   Month         841 non-null    int64         \n",
            "dtypes: datetime64[ns](1), int64(6)\n",
            "memory usage: 52.6 KB\n",
            "None\n",
            "Starting and ending date is : \n",
            "2020-01-22 00:00:00Ending is : 2022-05-11 00:00:00\n",
            "<class 'pandas.core.frame.DataFrame'>\n",
            "Int64Index: 841 entries, 0 to 840\n",
            "Data columns (total 7 columns):\n",
            " #   Column        Non-Null Count  Dtype         \n",
            "---  ------        --------------  -----         \n",
            " 0   Date          841 non-null    datetime64[ns]\n",
            " 1   new_case_MO   841 non-null    int64         \n",
            " 2   new_case_MI   841 non-null    int64         \n",
            " 3   new_death_MO  841 non-null    int64         \n",
            " 4   new_death_MI  841 non-null    int64         \n",
            " 5   Year          841 non-null    int64         \n",
            " 6   Month         841 non-null    int64         \n",
            "dtypes: datetime64[ns](1), int64(6)\n",
            "memory usage: 52.6 KB\n",
            "None\n"
          ]
        }
      ]
    },
    {
      "cell_type": "code",
      "source": [
        "plt.plot(\"Date\", \"new_case_MO\", data=total_data)\n",
        "plt.show()"
      ],
      "metadata": {
        "colab": {
          "base_uri": "https://localhost:8080/",
          "height": 265
        },
        "id": "bjP9gWezfMVp",
        "outputId": "ef8286a7-ba25-4117-8d48-0315490be567"
      },
      "execution_count": 202,
      "outputs": [
        {
          "output_type": "display_data",
          "data": {
            "text/plain": [
              "<Figure size 432x288 with 1 Axes>"
            ],
            "image/png": "[encoded data removed]"
          },
          "metadata": {
            "needs_background": "light"
          }
        }
      ]
    },
    {
      "cell_type": "code",
      "source": [
        "plt.plot(\"Date\", \"new_case_MI\", data=total_data)\n",
        "plt.show()"
      ],
      "metadata": {
        "colab": {
          "base_uri": "https://localhost:8080/",
          "height": 265
        },
        "id": "hYXGv1dffhBZ",
        "outputId": "6a8245de-f40b-4282-b1ce-26ff3b8f7a09"
      },
      "execution_count": 149,
      "outputs": [
        {
          "output_type": "display_data",
          "data": {
            "text/plain": [
              "<Figure size 432x288 with 1 Axes>"
            ],
            "image/png": "[encoded data removed]"
          },
          "metadata": {
            "needs_background": "light"
          }
        }
      ]
    },
    {
      "cell_type": "code",
      "source": [
        "plt.plot(\"Date\", \"new_death_MO\", data=total_data)\n",
        "plt.show()"
      ],
      "metadata": {
        "colab": {
          "base_uri": "https://localhost:8080/",
          "height": 265
        },
        "id": "41tPARPXfhMO",
        "outputId": "0f28de8e-9a3f-42be-fd6e-a5fb8b6201d9"
      },
      "execution_count": 150,
      "outputs": [
        {
          "output_type": "display_data",
          "data": {
            "text/plain": [
              "<Figure size 432x288 with 1 Axes>"
            ],
            "image/png": "[encoded data removed]"
          },
          "metadata": {
            "needs_background": "light"
          }
        }
      ]
    },
    {
      "cell_type": "code",
      "source": [
        "plt.plot(\"Date\", \"new_death_MI\", data=total_data)\n",
        "plt.show()"
      ],
      "metadata": {
        "colab": {
          "base_uri": "https://localhost:8080/",
          "height": 265
        },
        "id": "CEeCsCjFfhUm",
        "outputId": "de6b0915-efe9-4687-baf9-62817e35ea76"
      },
      "execution_count": 151,
      "outputs": [
        {
          "output_type": "display_data",
          "data": {
            "text/plain": [
              "<Figure size 432x288 with 1 Axes>"
            ],
            "image/png": "[encoded data removed]"
          },
          "metadata": {
            "needs_background": "light"
          }
        }
      ]
    },
    {
      "cell_type": "code",
      "source": [
        "def detect_outliers(data, numerical_attributes):\n",
        "    outlier_indices = []\n",
        "\n",
        "    for col in numerical_attributes:\n",
        "        Q1 = np.percentile(data[col], 25)\n",
        "        Q3 = np.percentile(data[col], 75)\n",
        "        IQR = Q3 - Q1\n",
        "        outlier_step = 1.5 * IQR\n",
        "\n",
        "        outlier_list_col = sorted(\n",
        "            data[((data[col] < Q1 - outlier_step) | (data[col] > Q3 + outlier_step)) & data[col] != 0].index)\n",
        "        # append the found outlier indices for col to the list of outlier indices\n",
        "        outlier_indices.extend(outlier_list_col)\n",
        "        print(\"Outliers in Column \" + str(col) + \" : \" + str(len(outlier_list_col)))\n",
        "    outlier_indices = list(set(outlier_indices))\n",
        "\n",
        "    return outlier_indices"
      ],
      "metadata": {
        "id": "J1HYxOfSsARZ"
      },
      "execution_count": 203,
      "outputs": []
    },
    {
      "cell_type": "code",
      "source": [
        "\n",
        "\n",
        "numerical_attributes = ['new_case_MO', 'new_case_MI', 'new_death_MO', 'new_death_MI']\n",
        "outliers_in_data = detect_outliers(total_data, numerical_attributes)\n",
        "print(\"These are the number of rows that have Outliers when 0 is not considered to be an outlier:\", len(outliers_in_data))"
      ],
      "metadata": {
        "colab": {
          "base_uri": "https://localhost:8080/"
        },
        "id": "uyLj9F0MsEiu",
        "outputId": "170191db-970e-45fc-cf99-d77306384693"
      },
      "execution_count": 204,
      "outputs": [
        {
          "output_type": "stream",
          "name": "stdout",
          "text": [
            "Outliers in Column new_case_MO : 41\n",
            "Outliers in Column new_case_MI : 30\n",
            "Outliers in Column new_death_MO : 26\n",
            "Outliers in Column new_death_MI : 37\n",
            "These are the number of rows that have Outliers when 0 is not considered to be an outlier: 114\n"
          ]
        }
      ]
    },
    {
      "cell_type": "code",
      "source": [
        "new_data = total_data.copy()\n",
        "\n",
        "total_data= total_data[~total_data.index.isin(outliers_in_data)]\n",
        "\n",
        "print(\"Dataset information after removing the outliers: \\n\")\n",
        "print(total_data.describe())\n",
        "print(\"\\n\")\n",
        "print(\"\\n\")\n",
        "print(\"**************** After Removing Outlier Data****************************\")"
      ],
      "metadata": {
        "colab": {
          "base_uri": "https://localhost:8080/"
        },
        "id": "mADEbImLsZJ6",
        "outputId": "9fd36108-38a5-46ea-a697-ad46c2ae608c"
      },
      "execution_count": 205,
      "outputs": [
        {
          "output_type": "stream",
          "name": "stdout",
          "text": [
            "Dataset information after removing the outliers: \n",
            "\n",
            "        new_case_MO   new_case_MI  new_death_MO  new_death_MI         Year  \\\n",
            "count    727.000000    727.000000    727.000000    727.000000   727.000000   \n",
            "mean    1866.863824   1227.821183     28.159560     14.433287  2020.711142   \n",
            "std     2410.623563   1651.348478     35.069775     23.164774     0.681656   \n",
            "min        0.000000      0.000000     -4.000000     -2.000000  2020.000000   \n",
            "25%      340.000000    241.500000      5.000000      1.000000  2020.000000   \n",
            "50%     1284.000000    738.000000     14.000000      8.000000  2021.000000   \n",
            "75%     2333.000000   1745.000000     40.000000     18.000000  2021.000000   \n",
            "max    25560.000000  20116.000000    244.000000    314.000000  2022.000000   \n",
            "\n",
            "            Month  \n",
            "count  727.000000  \n",
            "mean     5.932600  \n",
            "std      3.215342  \n",
            "min      1.000000  \n",
            "25%      3.000000  \n",
            "50%      6.000000  \n",
            "75%      9.000000  \n",
            "max     12.000000  \n",
            "\n",
            "\n",
            "\n",
            "\n",
            "**************** After Removing Outlier Data****************************\n"
          ]
        }
      ]
    },
    {
      "cell_type": "code",
      "source": [
        "plt.plot(\"Date\", \"new_case_MO\", data=total_data)\n",
        "plt.show()"
      ],
      "metadata": {
        "colab": {
          "base_uri": "https://localhost:8080/",
          "height": 265
        },
        "id": "cF4-wLLms80J",
        "outputId": "98ffba36-b4d2-4589-e47b-005bd93854b5"
      },
      "execution_count": 206,
      "outputs": [
        {
          "output_type": "display_data",
          "data": {
            "text/plain": [
              "<Figure size 432x288 with 1 Axes>"
            ],
            "image/png": "[encoded data removed]"
          },
          "metadata": {
            "needs_background": "light"
          }
        }
      ]
    },
    {
      "cell_type": "code",
      "source": [
        "plt.plot(\"Date\", \"new_case_MI\", data=total_data)\n",
        "plt.show()"
      ],
      "metadata": {
        "colab": {
          "base_uri": "https://localhost:8080/",
          "height": 265
        },
        "id": "yczXU-9Js9AV",
        "outputId": "27a96770-7b9d-45a6-f2c8-d0f7c388ac25"
      },
      "execution_count": 207,
      "outputs": [
        {
          "output_type": "display_data",
          "data": {
            "text/plain": [
              "<Figure size 432x288 with 1 Axes>"
            ],
            "image/png": "[encoded data removed]"
          },
          "metadata": {
            "needs_background": "light"
          }
        }
      ]
    },
    {
      "cell_type": "code",
      "source": [
        "plt.plot(\"Date\", \"new_death_MO\", data=total_data)\n",
        "plt.show()"
      ],
      "metadata": {
        "colab": {
          "base_uri": "https://localhost:8080/",
          "height": 265
        },
        "id": "Khi17wH8s9GX",
        "outputId": "b326edeb-08a3-458a-f92e-ca4a0bf19a79"
      },
      "execution_count": 208,
      "outputs": [
        {
          "output_type": "display_data",
          "data": {
            "text/plain": [
              "<Figure size 432x288 with 1 Axes>"
            ],
            "image/png": "[encoded data removed]"
          },
          "metadata": {
            "needs_background": "light"
          }
        }
      ]
    },
    {
      "cell_type": "code",
      "source": [
        "plt.plot(\"Date\", \"new_death_MI\", data=total_data)\n",
        "plt.show()"
      ],
      "metadata": {
        "colab": {
          "base_uri": "https://localhost:8080/",
          "height": 265
        },
        "id": "almkivAGs9Iv",
        "outputId": "f90f2f46-f532-40d6-caa5-6c721d3a90f2"
      },
      "execution_count": 209,
      "outputs": [
        {
          "output_type": "display_data",
          "data": {
            "text/plain": [
              "<Figure size 432x288 with 1 Axes>"
            ],
            "image/png": "[encoded data removed]"
          },
          "metadata": {
            "needs_background": "light"
          }
        }
      ]
    },
    {
      "cell_type": "code",
      "source": [
        "#Considering data only for February and March months for year 2021\n",
        "total_data = new_data\n",
        "feb_cases = total_data[(total_data.Date > '2021-01-31') & (total_data.Date < '2021-03-01')]\n",
        "\n",
        "feb_mo_cases = feb_cases['new_case_MO'].to_numpy()\n",
        "feb_mo_deaths = feb_cases['new_death_MO'].to_numpy()\n",
        "\n",
        "feb_mi_cases = feb_cases['new_case_MI'].to_numpy()\n",
        "feb_mi_deaths = feb_cases['new_death_MI'].to_numpy()\n",
        "\n",
        "\n",
        "\n",
        "march_cases = total_data[(total_data.Date > '2021-02-28') & (total_data.Date <= '2021-03-31')]\n",
        "# print(march_cases)\n",
        "\n",
        "march_mo_cases = march_cases['new_case_MO'].to_numpy()\n",
        "march_mo_deaths = march_cases['new_death_MO'].to_numpy()\n",
        "\n",
        "march_mi_cases = march_cases['new_case_MI'].to_numpy()\n",
        "march_mi_deaths = march_cases['new_death_MI'].to_numpy()\n",
        "print(\"Number of data points for February month: \"+str(len(feb_cases)))\n",
        "print(\"Number of data points for March month: \"+str(len(march_cases)))\n",
        "n = total_data.shape[0]\n",
        "print(n)"
      ],
      "metadata": {
        "colab": {
          "base_uri": "https://localhost:8080/"
        },
        "id": "6pPyammZ51ax",
        "outputId": "b50d4d59-d5bf-44de-fbad-db4f3e001606"
      },
      "execution_count": 184,
      "outputs": [
        {
          "output_type": "stream",
          "name": "stdout",
          "text": [
            "Number of data points for February month: 28\n",
            "Number of data points for March month: 31\n",
            "841\n"
          ]
        }
      ]
    },
    {
      "cell_type": "code",
      "source": [
        "true_std_conf_MO = np.sqrt(\n",
        "    (1 / (n)) * sum(np.square(total_data[\"new_case_MO\"] - total_data[\"new_case_MO\"].mean()))\n",
        ")\n",
        "true_std_conf_MI = np.sqrt(\n",
        "    (1 / (n)) * sum(np.square(total_data[\"new_case_MO\"] - total_data[\"new_case_MI\"].mean()))\n",
        ")\n",
        "true_std_death_MO = np.sqrt(\n",
        "    (1 / (n)) * sum(np.square(total_data[\"new_case_MO\"] - total_data[\"new_death_MO\"].mean()))\n",
        ")\n",
        "true_std_death_MI = np.sqrt(\n",
        "    (1 / (n)) * sum(np.square(total_data[\"new_case_MO\"] - total_data[\"new_death_MI\"].mean()))\n",
        ")\n",
        "\n",
        "print(true_std_conf_MO)\n",
        "print(true_std_conf_MI)\n",
        "print(true_std_death_MO)\n",
        "print(true_std_death_MI)"
      ],
      "metadata": {
        "colab": {
          "base_uri": "https://localhost:8080/"
        },
        "id": "pFYTcVLklGBn",
        "outputId": "2525f9fc-e226-4018-c495-d86245107f33"
      },
      "execution_count": 185,
      "outputs": [
        {
          "output_type": "stream",
          "name": "stdout",
          "text": [
            "5645.005192562856\n",
            "5782.5293320771525\n",
            "6347.556763690713\n",
            "6354.661021975205\n"
          ]
        }
      ]
    },
    {
      "cell_type": "code",
      "source": [
        "#Defining Wald's test \n",
        "#Assuming poisson's distribution \n",
        "\n",
        "def walds_test(feb, march):\n",
        "    \n",
        "    feb_mean = feb.mean()\n",
        "    march_mean = march.mean()\n",
        "    print(\"February Month Mean: \"+str(feb_mean))\n",
        "    print(\"March Month Mean: \"+str(march_mean))\n",
        "    #Variance and mean are equal for poisson distribution\n",
        "    standard_error = math.sqrt(march_mean/len(march))\n",
        "    #computing the W statistic \n",
        "    W = np.abs((march_mean - feb_mean)/standard_error)\n",
        "    Z_alpha = 1.96\n",
        "    print(\"Walds w-statistics :\")\n",
        "    print(str(W) + \"\\n\")\n",
        "    if(W <= Z_alpha):\n",
        "        return \"Accept Ho since the value of W statistic \"+ str(W)+\" is less than threshold value 1.96\"\n",
        "    else:\n",
        "        return \"Reject Ho since the value of W statistic \"+ str(W)+\" is greater than threshold value 1.96\""
      ],
      "metadata": {
        "id": "gyrSWT1580y7"
      },
      "execution_count": 161,
      "outputs": []
    },
    {
      "cell_type": "code",
      "source": [
        "print(\"Procedure:\")\n",
        "print(\"\")\n",
        "print(\"Results for every column:\")\n",
        "print(\"Missouri Confirmed Cases\")\n",
        "print(walds_test(feb_mo_cases,march_mo_cases))\n",
        "print(\"\\n\")\n",
        "print(\"Missouri Deaths\")\n",
        "print(walds_test(feb_mo_deaths,march_mo_deaths))\n",
        "print(\"\\n\")\n",
        "print(\"Michigan Confirmed Cases\")\n",
        "print(walds_test(feb_mi_cases,march_mi_cases))\n",
        "print(\"\\n\")\n",
        "print(\"Michigan Deaths\")\n",
        "print(walds_test(feb_mi_deaths,march_mi_deaths))\n",
        "print(\"\\n\")"
      ],
      "metadata": {
        "colab": {
          "base_uri": "https://localhost:8080/"
        },
        "id": "fpIB7Xyo82hE",
        "outputId": "a4bed0d8-85b8-4aae-c1d0-92377208bffc"
      },
      "execution_count": 162,
      "outputs": [
        {
          "output_type": "stream",
          "name": "stdout",
          "text": [
            "Procedure:\n",
            "\n",
            "Results for every column:\n",
            "Missouri Confirmed Cases\n",
            "February Month Mean: 1247.0714285714287\n",
            "March Month Mean: 3559.935483870968\n",
            "Walds w-statistics :\n",
            "215.82904542906738\n",
            "\n",
            "Reject Ho since the value of W statistic 215.82904542906738 is greater than threshold value 1.96\n",
            "\n",
            "\n",
            "Missouri Deaths\n",
            "February Month Mean: 29.285714285714285\n",
            "March Month Mean: 21.322580645161292\n",
            "Walds w-statistics :\n",
            "9.60163004469905\n",
            "\n",
            "Reject Ho since the value of W statistic 9.60163004469905 is greater than threshold value 1.96\n",
            "\n",
            "\n",
            "Michigan Confirmed Cases\n",
            "February Month Mean: 881.7857142857143\n",
            "March Month Mean: 549.4193548387096\n",
            "Walds w-statistics :\n",
            "78.9488720749457\n",
            "\n",
            "Reject Ho since the value of W statistic 78.9488720749457 is greater than threshold value 1.96\n",
            "\n",
            "\n",
            "Michigan Deaths\n",
            "February Month Mean: 16.535714285714285\n",
            "March Month Mean: 7.612903225806452\n",
            "Walds w-statistics :\n",
            "18.0055913490443\n",
            "\n",
            "Reject Ho since the value of W statistic 18.0055913490443 is greater than threshold value 1.96\n",
            "\n",
            "\n"
          ]
        }
      ]
    },
    {
      "cell_type": "code",
      "source": [
        "#Defining the Z test \n",
        "\n",
        "def z_test(feb,march,true_dev):\n",
        "    feb_mean = feb.mean()\n",
        "    march_mean = march.mean()\n",
        "    print(\"February Month Mean: \"+str(feb_mean))\n",
        "    print(\"March Month Mean: \"+str(march_mean))\n",
        "\n",
        "    standard_error = true_dev/math.sqrt(len(march))\n",
        "    #computing the Z statistic \n",
        "    Z = np.abs((march_mean - feb_mean)/standard_error)\n",
        "    Z_alpha = 1.96\n",
        "    if(Z <= Z_alpha):\n",
        "        return \"Accept Ho since Z value is : \"+ str(Z)\n",
        "    else:\n",
        "        return \"Reject Ho since Z value is : \"+ str(Z)"
      ],
      "metadata": {
        "id": "RLsl8rW7EezA"
      },
      "execution_count": 163,
      "outputs": []
    },
    {
      "cell_type": "code",
      "source": [
        "print(\"Results:\\n\")\n",
        "print(\"Missouri Confirmed Cases\")\n",
        "print(z_test(feb_mo_cases,march_mo_cases,true_std_conf_MO))\n",
        "print(\"\\n\")\n",
        "print(\"Missouri Deaths\")\n",
        "print(z_test(feb_mo_deaths,march_mo_deaths,true_std_death_MO))\n",
        "print(\"\\n\")\n",
        "print(\"Michigan Confirmed Cases\")\n",
        "print(z_test(feb_mi_cases,march_mi_cases,true_std_conf_MI))\n",
        "print(\"\\n\")\n",
        "print(\"Michigan Deaths\")\n",
        "print(z_test(feb_mi_deaths,march_mi_deaths,true_std_death_MI))\n",
        "print(\"\\n\")"
      ],
      "metadata": {
        "colab": {
          "base_uri": "https://localhost:8080/"
        },
        "id": "54YRQdBfEiWV",
        "outputId": "7c9ea3e7-a064-4a2e-9e0c-c615a10a42cd"
      },
      "execution_count": 164,
      "outputs": [
        {
          "output_type": "stream",
          "name": "stdout",
          "text": [
            "Results:\n",
            "\n",
            "Missouri Confirmed Cases\n",
            "February Month Mean: 1247.0714285714287\n",
            "March Month Mean: 3559.935483870968\n",
            "Reject Ho since Z value is : 2.2812170447837743\n",
            "\n",
            "\n",
            "Missouri Deaths\n",
            "February Month Mean: 29.285714285714285\n",
            "March Month Mean: 21.322580645161292\n",
            "Accept Ho since Z value is : 0.006984868879619866\n",
            "\n",
            "\n",
            "Michigan Confirmed Cases\n",
            "February Month Mean: 881.7857142857143\n",
            "March Month Mean: 549.4193548387096\n",
            "Accept Ho since Z value is : 0.32002216768139613\n",
            "\n",
            "\n",
            "Michigan Deaths\n",
            "February Month Mean: 16.535714285714285\n",
            "March Month Mean: 7.612903225806452\n",
            "Accept Ho since Z value is : 0.007817900791847186\n",
            "\n",
            "\n"
          ]
        }
      ]
    },
    {
      "cell_type": "code",
      "source": [
        "#T test \n",
        "\n",
        "def t_test(feb,march):\n",
        "    feb_mean = feb.mean()\n",
        "    march_mean = march.mean()\n",
        "    \n",
        "    # sample_standard_deviation = np.sqrt(np.sum(np.square(march - march_mean))/(len(march))) \n",
        "    sample_standard_deviation = np.sqrt((1 / (len(march - 1))) * sum(np.square(march - march_mean)))\n",
        "    denominator = sample_standard_deviation/math.sqrt(len(march))\n",
        "    #computing the T statistic \n",
        "    T = np.abs((march_mean - feb_mean)/denominator)\n",
        "    T_alpha = 2.04523\n",
        "    if(T <= T_alpha):\n",
        "        return \"Accept Ho since T value is \"+ str(T)\n",
        "    else:\n",
        "        return \"Reject Ho since T value is \"+ str(T)"
      ],
      "metadata": {
        "id": "VSr58kvEFZUs"
      },
      "execution_count": 165,
      "outputs": []
    },
    {
      "cell_type": "code",
      "source": [
        "print(\"The number of data points for the March month is : \" +str(len(march_cases)))\n",
        "print(\"Therefore the threshold value for T test for degree of freedom 29 and alpha/2 = 0.025 is 2.04523\")\n",
        "print(\"Missouri Confirmed Cases\")\n",
        "print(t_test(feb_mo_cases,march_mo_cases))\n",
        "print(\"\\n\")\n",
        "print(\"Missouri Deaths\")\n",
        "print(t_test(feb_mo_deaths,march_mo_deaths))\n",
        "print(\"\\n\")\n",
        "print(\"Michigan Confirmed Cases\")\n",
        "print(t_test(feb_mi_cases,march_mi_cases))\n",
        "print(\"\\n\")\n",
        "print(\"Michigan Deaths\")\n",
        "print(t_test(feb_mi_deaths,march_mi_deaths))\n",
        "print(\"\\n\")"
      ],
      "metadata": {
        "colab": {
          "base_uri": "https://localhost:8080/"
        },
        "id": "f2T09E4NFf3O",
        "outputId": "587734b3-b4df-4a2f-f62e-8009f739712f"
      },
      "execution_count": 166,
      "outputs": [
        {
          "output_type": "stream",
          "name": "stdout",
          "text": [
            "The number of data points for the March month is : 31\n",
            "Therefore the threshold value for T test for degree of freedom 29 and alpha/2 = 0.025 is 2.04523\n",
            "Missouri Confirmed Cases\n",
            "Reject Ho since T value is 6.9765968710765005\n",
            "\n",
            "\n",
            "Missouri Deaths\n",
            "Reject Ho since T value is 5.477909842374333\n",
            "\n",
            "\n",
            "Michigan Confirmed Cases\n",
            "Reject Ho since T value is 13.511492241611235\n",
            "\n",
            "\n",
            "Michigan Deaths\n",
            "Reject Ho since T value is 17.44696001430266\n",
            "\n",
            "\n"
          ]
        }
      ]
    },
    {
      "cell_type": "code",
      "source": [
        "#2 SAMPLE TESTS \n",
        "\n",
        "#Walds Test \n",
        "#null hypothesis is that both the means are equal, so theta0 = 0\n",
        "\n",
        "\n",
        "def walds_test_2(feb,march):\n",
        "    feb_mean = feb.mean()\n",
        "    march_mean = march.mean()\n",
        "    \n",
        "    standard_error = np.sqrt((feb_mean/len(feb)) + march_mean/len(march))\n",
        "    #w value of waltz\n",
        "    W = np.abs((feb_mean - march_mean)/standard_error)\n",
        "    Z_alpha = 1.96\n",
        "    if(W <= Z_alpha):\n",
        "        return \"Accept Ho since the value of W statistic \"+ str(W)+\" is less than threshold value 1.96\"\n",
        "    else:\n",
        "        return \"Reject Ho since the value of W statistic \"+ str(W)+\" is greater than threshold value 1.96\""
      ],
      "metadata": {
        "id": "vSct6hbSIFC2"
      },
      "execution_count": 167,
      "outputs": []
    },
    {
      "cell_type": "code",
      "source": [
        "print(\"Missouri Confirmed Cases\")\n",
        "print(walds_test_2(feb_mo_cases,march_mo_cases))\n",
        "print(\"\\n\")\n",
        "print(\"Missouri Deaths\")\n",
        "print(walds_test_2(feb_mo_deaths,march_mo_deaths))\n",
        "print(\"\\n\")\n",
        "print(\"Michigan Confirmed Cases\")\n",
        "print(walds_test_2(feb_mi_cases,march_mi_cases))\n",
        "print(\"\\n\")\n",
        "print(\"Michigan Deaths\")\n",
        "print(walds_test_2(feb_mi_deaths,march_mi_deaths))\n",
        "print(\"\\n\")"
      ],
      "metadata": {
        "colab": {
          "base_uri": "https://localhost:8080/"
        },
        "id": "1eCBAtLtIGvV",
        "outputId": "0c077ad6-2d5a-4034-f64b-04fe5714e6eb"
      },
      "execution_count": 168,
      "outputs": [
        {
          "output_type": "stream",
          "name": "stdout",
          "text": [
            "Missouri Confirmed Cases\n",
            "Reject Ho since the value of W statistic 183.20619395711873 is greater than threshold value 1.96\n",
            "\n",
            "\n",
            "Missouri Deaths\n",
            "Reject Ho since the value of W statistic 6.047718598640781 is greater than threshold value 1.96\n",
            "\n",
            "\n",
            "Michigan Confirmed Cases\n",
            "Reject Ho since the value of W statistic 47.37681708134222 is greater than threshold value 1.96\n",
            "\n",
            "\n",
            "Michigan Deaths\n",
            "Reject Ho since the value of W statistic 9.75803838254028 is greater than threshold value 1.96\n",
            "\n",
            "\n"
          ]
        }
      ]
    },
    {
      "cell_type": "code",
      "source": [
        "#Unpaired T test \n",
        "\n",
        "def t_test_2(feb,march):\n",
        "    feb_mean = feb.mean()\n",
        "    march_mean = march.mean()\n",
        "    D = feb_mean - march_mean\n",
        "    \n",
        "    standard_deviation_feb_square = (1/(len(feb)-1))*np.sum(np.square(feb-feb_mean))\n",
        "    standard_deviation_march_square = (1/(len(march)-1))*np.sum(np.square(march-march_mean))\n",
        "    \n",
        "    sample_pooled_standard_deviation = np.sqrt((standard_deviation_feb_square/len(feb)) + (standard_deviation_march_square/len(march)))\n",
        "    \n",
        "    #Calculating the T statistic:\n",
        "    T = np.abs(D/sample_pooled_standard_deviation)\n",
        "    T_alpha = 2.30687\n",
        "    if(T <= T_alpha):\n",
        "       return \"Accept Ho since the value of T statistic \"+ str(T)+\" is less than threshold value 2.30687\"\n",
        "    else:\n",
        "        return \"Reject Ho since the value of W statistic \"+ str(T)+\" is greater than threshold value 2.30687\""
      ],
      "metadata": {
        "id": "Wm8fzPOOIc9I"
      },
      "execution_count": 169,
      "outputs": []
    },
    {
      "cell_type": "code",
      "source": [
        "print(\"Results:\\n\")\n",
        "print(\"Missouri Confirmed Cases\")\n",
        "print(t_test_2(feb_mo_cases,march_mo_cases))\n",
        "print(\"\\n\")\n",
        "print(\"Missouri Deaths\")\n",
        "print(t_test_2(feb_mo_deaths,march_mo_deaths))\n",
        "print(\"\\n\")\n",
        "print(\"Michigan Confirmed Cases\")\n",
        "print(t_test_2(feb_mi_cases,march_mi_cases))\n",
        "print(\"\\n\")\n",
        "print(\"Michigan Deaths\")\n",
        "print(t_test_2(feb_mi_deaths,march_mi_deaths))"
      ],
      "metadata": {
        "colab": {
          "base_uri": "https://localhost:8080/"
        },
        "id": "EtqAB9zCIeVc",
        "outputId": "32e14b96-0dae-4672-f18f-cc74e1529961"
      },
      "execution_count": 170,
      "outputs": [
        {
          "output_type": "stream",
          "name": "stdout",
          "text": [
            "Results:\n",
            "\n",
            "Missouri Confirmed Cases\n",
            "Reject Ho since the value of W statistic 6.794611500740641 is greater than threshold value 2.30687\n",
            "\n",
            "\n",
            "Missouri Deaths\n",
            "Reject Ho since the value of W statistic 3.3081197090139485 is greater than threshold value 2.30687\n",
            "\n",
            "\n",
            "Michigan Confirmed Cases\n",
            "Reject Ho since the value of W statistic 3.7941081924644857 is greater than threshold value 2.30687\n",
            "\n",
            "\n",
            "Michigan Deaths\n",
            "Reject Ho since the value of W statistic 7.307090548605932 is greater than threshold value 2.30687\n"
          ]
        }
      ]
    },
    {
      "cell_type": "code",
      "source": [
        "### Binomial distribution ###\n",
        "def get_binomial_value(data_state1, data_state2):\n",
        "    \"\"\"\n",
        "    Binomial CDF \n",
        "    parameter: state1_data, state2_data\n",
        "    \n",
        "    return: CDF, x_coordinates\n",
        "    \"\"\"\n",
        "    \n",
        "    # Calculate MME p_mme and n_mme value\n",
        "    mean = data_state1.mean()\n",
        "    variance = data_state1.var()\n",
        "    p_mme = 1 - (variance / mean)\n",
        "    n_mme = (mean ** 2)/(mean - variance)\n",
        "    print(\"p_mme is \", p_mme)\n",
        "    print(\"n_mme is \", n_mme)\n",
        "    F_D = []\n",
        "    for i in range(data_state2.shape[0]):\n",
        "        F_D.append(binom.cdf(data_state2[i], n_mme, p_mme))\n",
        "        \n",
        "    F_D = np.asarray(F_D)\n",
        "    F_D_dict = {}\n",
        "    for i in range(data_state2.shape[0]):\n",
        "        if data_state2[i] not in F_D_dict:\n",
        "            F_D_dict[data_state2[i]] = F_D[i]\n",
        "    keys = sorted(F_D_dict.keys())\n",
        "    CFD = []\n",
        "    for i in range(len(keys)):\n",
        "        CFD.append(F_D_dict[keys[i]])\n",
        "    return CFD, keys"
      ],
      "metadata": {
        "id": "C7pjpBxz97xJ"
      },
      "execution_count": 171,
      "outputs": []
    },
    {
      "cell_type": "code",
      "source": [
        "### Poission distribution ###\n",
        "def get_poisson_cdf_value(data_state1, data_state2):\n",
        "    \"\"\"\n",
        "    Poisson CDF \n",
        "    parameter: state1_data, state2_data\n",
        "    \n",
        "    return: CDF, x_coordinates\n",
        "    \"\"\"\n",
        "    # Calculate MME lambda_mme value equals mean\n",
        "    mean = data_state1.mean()\n",
        "    print('lambda is: ', mean)\n",
        "    sum_val = 0\n",
        "    F_D = []\n",
        "    for i in range(data_state2.shape[0]):\n",
        "        F_D.append(poisson.cdf(data_state2[i], mean))\n",
        "    F_D = np.asarray(F_D)\n",
        "    F_D_dict = {}\n",
        "    for i in range(data_state2.shape[0]):\n",
        "        if data_state2[i] not in F_D_dict:\n",
        "            F_D_dict[data_state2[i]] = F_D[i]\n",
        "    keys = sorted(F_D_dict.keys())\n",
        "    CFD = []\n",
        "    for i in range(len(keys)):\n",
        "        CFD.append(F_D_dict[keys[i]])\n",
        "    return CFD, keys"
      ],
      "metadata": {
        "id": "Ghxx6BtI979H"
      },
      "execution_count": 172,
      "outputs": []
    },
    {
      "cell_type": "code",
      "source": [
        "### Geometric distribution ###\n",
        "def get_geometric_cdf_value(data_state1, data_state2):\n",
        "    \"\"\"\n",
        "    Geometric CDF \n",
        "    parameter: state1_data, state2_data\n",
        "    \n",
        "    return: CDF, x_coordinates\n",
        "    \"\"\"\n",
        "    # Calculate MME p_mme value equals 1/mean\n",
        "    mean = data_state1.mean()\n",
        "    p_mme = 1/mean\n",
        "    print(\"p_mme is \",p_mme)\n",
        "    sum_val = 0\n",
        "    F_D = []\n",
        "    \n",
        "    for i in range(data_state2.shape[0]):\n",
        "        F_D.append((1 - ((1-p_mme) ** data_state2[i])))\n",
        "    F_D = np.asarray(F_D)\n",
        "    \n",
        "    F_D_dict = {}\n",
        "    for i in range(data_state2.shape[0]):\n",
        "        if data_state2[i] not in F_D_dict:\n",
        "            F_D_dict[data_state2[i]] = F_D[i]\n",
        "    keys = sorted(F_D_dict.keys())\n",
        "    CFD = []\n",
        "    for i in range(len(keys)):\n",
        "        CFD.append(F_D_dict[keys[i]])\n",
        "    return CFD, keys"
      ],
      "metadata": {
        "id": "c4axnscr97_l"
      },
      "execution_count": 173,
      "outputs": []
    },
    {
      "cell_type": "code",
      "source": [
        "### Calculate CDF ###\n",
        "def get_data_cdf(data):\n",
        "    pdf_dict = {}\n",
        "    for i in range(data.shape[0]):\n",
        "        if data[i] in pdf_dict:\n",
        "            pdf_dict[data[i]] += 1\n",
        "        else:\n",
        "            pdf_dict[data[i]] = 1\n",
        "    n = data.shape[0]\n",
        "    for i in pdf_dict:\n",
        "        pdf_dict[i] = pdf_dict[i]/n\n",
        "        \n",
        "    keys = sorted(pdf_dict.keys())\n",
        "    CDF = []\n",
        "    cumulate = 0\n",
        "    for i in keys:\n",
        "        cumulate += pdf_dict[i]\n",
        "        CDF.append(cumulate)\n",
        "    return CDF, keys"
      ],
      "metadata": {
        "id": "jIFHzflH98Bh"
      },
      "execution_count": 186,
      "outputs": []
    },
    {
      "cell_type": "code",
      "source": [
        "print(\"\\n\\n###### One Sample KS test ######\\n\")\n",
        "def one_sanmple_KS_test(x, F_x, F_x_cap):\n",
        "    \"\"\"\n",
        "    1-Sample CDF \n",
        "    parameter: data, state1_data, state2_data\n",
        "    \n",
        "    return: CDF, x_coordinates\n",
        "    \"\"\"\n",
        "    f_max = max((F_x[0] - 0), (F_x[0] - F_x_cap[0]))\n",
        "    j = 0\n",
        "    result = True\n",
        "    for i in range(1, len(x)):\n",
        "        if(f_max < (F_x[i] - F_x_cap[i-1])):\n",
        "            f_max = (F_x[i] - F_x_cap[i-1])\n",
        "            j = i\n",
        "        if(f_max < (F_x[i] - F_x_cap[i])):\n",
        "            f_max = (F_x[i] - F_x_cap[i])\n",
        "            j = i\n",
        "    print(\"Maximum distance is: \", f_max)\n",
        "    if(f_max > c):\n",
        "        result = False\n",
        "        print(\"Reject H_0\")\n",
        "    else:\n",
        "        print('Accpet H_0')\n",
        "    return f_max, result, j"
      ],
      "metadata": {
        "colab": {
          "base_uri": "https://localhost:8080/"
        },
        "id": "XbS79g3N98Cu",
        "outputId": "1bbe61c2-e1ae-40aa-a43d-0bf6070cafbb"
      },
      "execution_count": 187,
      "outputs": [
        {
          "output_type": "stream",
          "name": "stdout",
          "text": [
            "\n",
            "\n",
            "###### One Sample KS test ######\n",
            "\n"
          ]
        }
      ]
    },
    {
      "cell_type": "code",
      "source": [
        "def draw_all_for_ks(x_1, y_1, label_1, x_2, y_2, label_2, max_x):\n",
        "    t = \"eCDF\"\n",
        "    plt.title(t)\n",
        "    plt.step(x_1,y_1,label=label_1)\n",
        "    plt.step(x_2,y_2,label=label_2)\n",
        "    plt.axvline(max_x, 0, 1, label='maximum distance', color=\"red\")\n",
        "    plt.xlabel(\"X-axis\")\n",
        "    plt.ylabel(\"Y-axis\")\n",
        "    plt.legend(loc='center left', bbox_to_anchor=(1, 0.5))\n",
        "    plt.show()"
      ],
      "metadata": {
        "id": "R6958ShQAYz5"
      },
      "execution_count": 188,
      "outputs": []
    },
    {
      "cell_type": "code",
      "source": [
        "c = 0.05\n",
        "print(total_data.info())"
      ],
      "metadata": {
        "colab": {
          "base_uri": "https://localhost:8080/"
        },
        "id": "9CwyzthiBE1d",
        "outputId": "0eb1b707-dd4e-4c77-ab0d-42c2be9bdd22"
      },
      "execution_count": 189,
      "outputs": [
        {
          "output_type": "stream",
          "name": "stdout",
          "text": [
            "<class 'pandas.core.frame.DataFrame'>\n",
            "Int64Index: 841 entries, 0 to 840\n",
            "Data columns (total 7 columns):\n",
            " #   Column        Non-Null Count  Dtype         \n",
            "---  ------        --------------  -----         \n",
            " 0   Date          841 non-null    datetime64[ns]\n",
            " 1   new_case_MO   841 non-null    int64         \n",
            " 2   new_case_MI   841 non-null    int64         \n",
            " 3   new_death_MO  841 non-null    int64         \n",
            " 4   new_death_MI  841 non-null    int64         \n",
            " 5   Year          841 non-null    int64         \n",
            " 6   Month         841 non-null    int64         \n",
            "dtypes: datetime64[ns](1), int64(6)\n",
            "memory usage: 52.6 KB\n",
            "None\n"
          ]
        }
      ]
    },
    {
      "cell_type": "code",
      "source": [
        "total_data = total_data.loc[(total_data[\"Month\"] >= 10) & (total_data[\"Month\"] <= 12) & (total_data[\"Year\"] == 2021)]\n",
        "print(total_data)\n",
        "total_data = total_data.drop(columns=[\"Date\", \"Year\", \"Month\"])\n",
        "columns = total_data.columns\n",
        "total_data_npy = total_data.to_numpy().astype(\"int\")\n"
      ],
      "metadata": {
        "colab": {
          "base_uri": "https://localhost:8080/"
        },
        "id": "kXNKNQAZE_B8",
        "outputId": "a8265814-5ac5-49dc-f0ac-ae1398ee73d8"
      },
      "execution_count": 190,
      "outputs": [
        {
          "output_type": "stream",
          "name": "stdout",
          "text": [
            "          Date  new_case_MO  new_case_MI  new_death_MO  new_death_MI  Year  \\\n",
            "618 2021-10-01         4774         1724            32             7  2021   \n",
            "619 2021-10-02         3271         1010            14             2  2021   \n",
            "620 2021-10-03         3271          762            14             0  2021   \n",
            "621 2021-10-04         3274         1181            17           140  2021   \n",
            "622 2021-10-05         4352         1932            35            12  2021   \n",
            "..         ...          ...          ...           ...           ...   ...   \n",
            "705 2021-12-27        35418         9979           142             7  2021   \n",
            "706 2021-12-28        12248         4782            59           169  2021   \n",
            "707 2021-12-29        17027         7109            84            14  2021   \n",
            "708 2021-12-30            0         8143             0             4  2021   \n",
            "709 2021-12-31            0            0             0             0  2021   \n",
            "\n",
            "     Month  \n",
            "618     10  \n",
            "619     10  \n",
            "620     10  \n",
            "621     10  \n",
            "622     10  \n",
            "..     ...  \n",
            "705     12  \n",
            "706     12  \n",
            "707     12  \n",
            "708     12  \n",
            "709     12  \n",
            "\n",
            "[92 rows x 7 columns]\n"
          ]
        }
      ]
    },
    {
      "cell_type": "code",
      "source": [
        "\n",
        "flag = True\n",
        "print(\"#########Poission destribution#########\")\n",
        "for i in range(0, 4, 2):\n",
        "    if flag:\n",
        "        print(\"Confirmed cases for MO(State1) and MI(State2)\")\n",
        "    else:\n",
        "        print(\"Confirmed deaths for MO(State1) and MI(State2)\")\n",
        "    flag = not flag\n",
        "\n",
        "    CDF_geometric, X_geometric = get_poisson_cdf_value(total_data_npy[:, i], total_data_npy[:, i + 1])\n",
        "    CDF_data, X_data = get_data_cdf(total_data_npy[:, i + 1])\n",
        "    f_max, result, max_x = one_sanmple_KS_test(X_data, CDF_geometric, CDF_data)\n",
        "    draw_all_for_ks(\n",
        "        X_data, CDF_geometric, \"Poission\", X_data, CDF_data, \"Data\", X_data[max_x]\n",
        "    )"
      ],
      "metadata": {
        "colab": {
          "base_uri": "https://localhost:8080/",
          "height": 734
        },
        "id": "bYwqZrbCBE7w",
        "outputId": "77f3fa20-0a05-4583-ea97-801a3be77e83"
      },
      "execution_count": 191,
      "outputs": [
        {
          "output_type": "stream",
          "name": "stdout",
          "text": [
            "#########Poission destribution#########\n",
            "Confirmed cases for MO(State1) and MI(State2)\n",
            "lambda is:  6039.380434782609\n",
            "Maximum distance is:  0.043478237117851926\n",
            "Accpet H_0\n"
          ]
        },
        {
          "output_type": "display_data",
          "data": {
            "text/plain": [
              "<Figure size 432x288 with 1 Axes>"
            ],
            "image/png": "[encoded data removed]"
          },
          "metadata": {
            "needs_background": "light"
          }
        },
        {
          "output_type": "stream",
          "name": "stdout",
          "text": [
            "Confirmed deaths for MO(State1) and MI(State2)\n",
            "lambda is:  36.95652173913044\n",
            "Maximum distance is:  0.14129384290808622\n",
            "Reject H_0\n"
          ]
        },
        {
          "output_type": "display_data",
          "data": {
            "text/plain": [
              "<Figure size 432x288 with 1 Axes>"
            ],
            "image/png": "[encoded data removed]"
          },
          "metadata": {
            "needs_background": "light"
          }
        }
      ]
    },
    {
      "cell_type": "code",
      "source": [
        "print(\"#########Geometric destribution#########\")\n",
        "for i in range(0, 4, 2):\n",
        "    if flag:\n",
        "        print(\"Confirmed cases for MO(State1) and MI(State2)\")\n",
        "    else:\n",
        "        print(\"Confirmed deaths for MO(State1) and MI(State2)\")\n",
        "    flag = not flag\n",
        "\n",
        "    CDF_geometric, X_geometric = get_geometric_cdf_value(total_data_npy[:, i], total_data_npy[:, i + 1])\n",
        "    CDF_data, X_data = get_data_cdf(total_data_npy[:, i + 1])\n",
        "    f_max, result, max_x = one_sanmple_KS_test(X_data, CDF_geometric, CDF_data)\n",
        "    draw_all_for_ks(\n",
        "        X_data, CDF_geometric, \"Geometric\", X_data, CDF_data, \"Data\", X_data[max_x]\n",
        "    )"
      ],
      "metadata": {
        "colab": {
          "base_uri": "https://localhost:8080/",
          "height": 734
        },
        "id": "RTTxuSkOBE9-",
        "outputId": "78a2dbf2-5157-4654-ef7b-6b8df51beccd"
      },
      "execution_count": 192,
      "outputs": [
        {
          "output_type": "stream",
          "name": "stdout",
          "text": [
            "#########Geometric destribution#########\n",
            "Confirmed cases for MO(State1) and MI(State2)\n",
            "p_mme is  0.00016557989860030992\n",
            "Maximum distance is:  0.0\n",
            "Accpet H_0\n"
          ]
        },
        {
          "output_type": "display_data",
          "data": {
            "text/plain": [
              "<Figure size 432x288 with 1 Axes>"
            ],
            "image/png": "[encoded data removed]"
          },
          "metadata": {
            "needs_background": "light"
          }
        },
        {
          "output_type": "stream",
          "name": "stdout",
          "text": [
            "Confirmed deaths for MO(State1) and MI(State2)\n",
            "p_mme is  0.027058823529411764\n",
            "Maximum distance is:  0.022590245638641093\n",
            "Accpet H_0\n"
          ]
        },
        {
          "output_type": "display_data",
          "data": {
            "text/plain": [
              "<Figure size 432x288 with 1 Axes>"
            ],
            "image/png": "[encoded data removed]"
          },
          "metadata": {
            "needs_background": "light"
          }
        }
      ]
    },
    {
      "cell_type": "code",
      "source": [
        "print(\"#########Binomial destribution#########\")\n",
        "for i in range(0, 4, 2):\n",
        "    if flag:\n",
        "        print(\"Confirmed cases for MO(State1) and MI(State2)\")\n",
        "    else:\n",
        "        print(\"Confirmed deaths for MO(State1) and MI(State2)\")\n",
        "    flag = not flag\n",
        "\n",
        "    CDF_geometric, X_geometric = get_binomial_value(total_data_npy[:, i], total_data_npy[:, i + 1])\n",
        "    CDF_data, X_data = get_data_cdf(total_data_npy[:, i + 1])\n",
        "    f_max, result, max_x = one_sanmple_KS_test(X_data, CDF_geometric, CDF_data)\n",
        "    draw_all_for_ks(\n",
        "        X_data, CDF_geometric, \"Binomial\", X_data, CDF_data, \"Data\", X_data[max_x]\n",
        "    )"
      ],
      "metadata": {
        "colab": {
          "base_uri": "https://localhost:8080/",
          "height": 769
        },
        "id": "XZZ1CY_ZBTQs",
        "outputId": "0e4bf1fe-7636-496f-bd87-cca14e3f70e3"
      },
      "execution_count": 193,
      "outputs": [
        {
          "output_type": "stream",
          "name": "stdout",
          "text": [
            "#########Binomial destribution#########\n",
            "Confirmed cases for MO(State1) and MI(State2)\n",
            "p_mme is  -5741.7083610375785\n",
            "n_mme is  -1.051843816339574\n",
            "Maximum distance is:  1.0\n",
            "Reject H_0\n"
          ]
        },
        {
          "output_type": "display_data",
          "data": {
            "text/plain": [
              "<Figure size 432x288 with 1 Axes>"
            ],
            "image/png": "[encoded data removed]"
          },
          "metadata": {
            "needs_background": "light"
          }
        },
        {
          "output_type": "stream",
          "name": "stdout",
          "text": [
            "Confirmed deaths for MO(State1) and MI(State2)\n",
            "p_mme is  -37.67406649616369\n",
            "n_mme is  -0.98095388091152\n",
            "Maximum distance is:  nan\n",
            "Accpet H_0\n"
          ]
        },
        {
          "output_type": "display_data",
          "data": {
            "text/plain": [
              "<Figure size 432x288 with 1 Axes>"
            ],
            "image/png": "[encoded data removed]"
          },
          "metadata": {
            "needs_background": "light"
          }
        }
      ]
    },
    {
      "cell_type": "code",
      "source": [
        "print(\"\\n\\n###### Two Sample KS Test ######\\n\")\n",
        "\n",
        "\n",
        "def two_sample_KS(state1, state2):\n",
        "    sort_state1 = np.sort(state1)\n",
        "    sort_state2 = np.sort(state2)\n",
        "\n",
        "    size = int(max(max(sort_state1), max(sort_state2)))\n",
        "    serched1 = np.ones(size)\n",
        "    serched2 = np.ones(size)\n",
        "    max_cdf_dist = 0\n",
        "    max_distance = 0\n",
        "\n",
        "    for i in range(int(max(max(sort_state1), max(sort_state2)))):\n",
        "        serched1[i] = np.searchsorted(state1, i, side=\"right\") / len(state1)\n",
        "        serched2[i] = np.searchsorted(state2, i, side=\"right\") / len(state2)\n",
        "\n",
        "        temp_max_distance = max(\n",
        "            abs(serched1[i] - serched2[i]),\n",
        "            abs(np.searchsorted(state1, i, side=\"left\") / len(state1) - serched2[i]),\n",
        "        )\n",
        "        if temp_max_distance > max_cdf_dist:\n",
        "            max_cdf_dist = temp_max_distance\n",
        "            max_distance = i\n",
        "\n",
        "    print(\"Maximum distance is: \", max_cdf_dist)\n",
        "    if max_cdf_dist > c:\n",
        "        print(\"Reject H_0\")\n",
        "    else:\n",
        "        print(\"Accept H_0\")\n",
        "\n",
        "    CDF_1, keys1 = get_data_cdf(state1)\n",
        "    CDF_2, keys2 = get_data_cdf(state2)\n",
        "    draw_all_for_ks(keys1, CDF_1, \"state1\", keys2, CDF_2, \"state2\", max_distance)\n",
        "    print(\"#################################################\")\n",
        "\n",
        "\n",
        "for i in range(0, 4, 2):\n",
        "    if flag:\n",
        "        print(\"Confirmed cases for MO(State1) and MI(State2)\")\n",
        "    else:\n",
        "        print(\"Confirmed deaths for MO(State1) and MI(State2)\")\n",
        "    flag = not flag\n",
        "    two_sample_KS(total_data_npy[:, i], total_data_npy[:, i + 1])\n"
      ],
      "metadata": {
        "colab": {
          "base_uri": "https://localhost:8080/",
          "height": 787
        },
        "id": "BbfP7FQqBVg-",
        "outputId": "c10b5130-1555-412a-f31c-9745d299aeaf"
      },
      "execution_count": 194,
      "outputs": [
        {
          "output_type": "stream",
          "name": "stdout",
          "text": [
            "\n",
            "\n",
            "###### Two Sample KS Test ######\n",
            "\n",
            "Confirmed cases for MO(State1) and MI(State2)\n",
            "Maximum distance is:  0.6086956521739131\n",
            "Reject H_0\n"
          ]
        },
        {
          "output_type": "display_data",
          "data": {
            "text/plain": [
              "<Figure size 432x288 with 1 Axes>"
            ],
            "image/png": "[encoded data removed]"
          },
          "metadata": {
            "needs_background": "light"
          }
        },
        {
          "output_type": "stream",
          "name": "stdout",
          "text": [
            "#################################################\n",
            "Confirmed deaths for MO(State1) and MI(State2)\n",
            "Maximum distance is:  0.5434782608695652\n",
            "Reject H_0\n"
          ]
        },
        {
          "output_type": "display_data",
          "data": {
            "text/plain": [
              "<Figure size 432x288 with 1 Axes>"
            ],
            "image/png": "[encoded data removed]"
          },
          "metadata": {
            "needs_background": "light"
          }
        },
        {
          "output_type": "stream",
          "name": "stdout",
          "text": [
            "#################################################\n"
          ]
        }
      ]
    },
    {
      "cell_type": "code",
      "source": [
        "print(\"\\n\\n###### Permutation test ######\\n\")\n",
        "\n",
        "\n",
        "def permutation_test(state1, state2):\n",
        "    data_combined = np.append(state1, state2)\n",
        "    state1 = list(state1)\n",
        "    state2 = list(state2)\n",
        "    df_numpy = df.to_numpy()\n",
        "\n",
        "    T_obs = abs(np.asarray(state2).mean() - np.asarray(state1).mean())\n",
        "    split = len(state1)\n",
        "    n = 1000\n",
        "    c = 0.05\n",
        "    temp_set = data_combined.copy()\n",
        "    sum_of_mean_diff = 0\n",
        "    for i in range(n):\n",
        "        np.random.seed(i)\n",
        "        np.random.shuffle(temp_set)\n",
        "        D1_temp = temp_set[:split]\n",
        "        D2_temp = temp_set[split:]\n",
        "        D1_temp_mean = D1_temp.mean()\n",
        "        D2_temp_mean = D2_temp.mean()\n",
        "        T_i = abs(D2_temp_mean - D1_temp_mean)\n",
        "        if T_i > T_obs:\n",
        "            sum_of_mean_diff += 1\n",
        "    p_value = sum_of_mean_diff / n\n",
        "    print(\"p-value = \", p_value)\n",
        "    if p_value <= c:\n",
        "        print(\"Reject H_0\")\n",
        "    else:\n",
        "        print(\"Accept H_0\")\n",
        "    print(\"#################################################\")\n",
        "\n",
        "\n",
        "for i in range(0, 4, 2):\n",
        "    if flag:\n",
        "        print(\"Confirmed cases for MO(State1) and MI(State2)\")\n",
        "    else:\n",
        "        print(\"Confirmed deaths for MO(State1) and MI(State2)\")\n",
        "    flag = not flag\n",
        "    permutation_test(total_data_npy[:, i], total_data_npy[:, i + 1])\n"
      ],
      "metadata": {
        "colab": {
          "base_uri": "https://localhost:8080/"
        },
        "id": "7iYTB_IgBVpd",
        "outputId": "5903dc9e-94f4-4d3c-8be5-673d7518b185"
      },
      "execution_count": 121,
      "outputs": [
        {
          "output_type": "stream",
          "name": "stdout",
          "text": [
            "\n",
            "\n",
            "###### Permutation test ######\n",
            "\n",
            "Confirmed cases for NH(State1) and NJ(State2)\n",
            "p-value =  0.0\n",
            "Reject H_0\n",
            "#################################################\n",
            "Confirmed deaths for NH(State1) and NJ(State2)\n",
            "p-value =  0.0\n",
            "Reject H_0\n",
            "#################################################\n"
          ]
        }
      ]
    }
  ]
}