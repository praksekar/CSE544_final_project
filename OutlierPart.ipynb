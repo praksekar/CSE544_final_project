{
  "nbformat": 4,
  "nbformat_minor": 0,
  "metadata": {
    "colab": {
      "name": "OutlierPart.ipynb",
      "provenance": []
    },
    "kernelspec": {
      "name": "python3",
      "display_name": "Python 3"
    },
    "language_info": {
      "name": "python"
    }
  },
  "cells": [
    {
      "cell_type": "code",
      "execution_count": 31,
      "metadata": {
        "id": "nVReCOIi6hkA"
      },
      "outputs": [],
      "source": [
        "import pandas as pd\n",
        "import numpy as np\n",
        "import datetime\n",
        "import math\n",
        "from math import *\n",
        "import matplotlib.pyplot as plt\n"
      ]
    },
    {
      "cell_type": "code",
      "source": [
        "from google.colab import drive\n",
        "drive.mount('/content/gdrive')\n",
        "%cd /content/gdrive/My Drive/Colab Notebooks"
      ],
      "metadata": {
        "colab": {
          "base_uri": "https://localhost:8080/"
        },
        "id": "bbTUOxv37jrq",
        "outputId": "09ac2b3e-3bd6-4f14-c2cb-1ccce95e0703"
      },
      "execution_count": 32,
      "outputs": [
        {
          "output_type": "stream",
          "name": "stdout",
          "text": [
            "Drive already mounted at /content/gdrive; to attempt to forcibly remount, call drive.mount(\"/content/gdrive\", force_remount=True).\n",
            "/content/gdrive/My Drive/Colab Notebooks\n"
          ]
        }
      ]
    },
    {
      "cell_type": "code",
      "source": [
        "df = pd.read_csv(\"Cases.csv\")\n",
        "df['conf_cases'] = df['conf_cases'].fillna(0)\n",
        "df['prob_cases'] = df['prob_cases'].fillna(0)\n",
        "df['pnew_case'] = df['pnew_case'].fillna(0)\n",
        "df['conf_death'] = df['conf_death'].fillna(0)\n",
        "df['prob_death'] = df['prob_death'].fillna(0)\n",
        "df['pnew_death'] = df['pnew_death'].fillna(0)"
      ],
      "metadata": {
        "id": "NLPwAN1m8u1Y"
      },
      "execution_count": 33,
      "outputs": []
    },
    {
      "cell_type": "code",
      "source": [
        "df_mo = df[df['state'] == \"MO\"]\n",
        "df_mi = df[df['state'] == \"MI\"]\n",
        "df_mo[\"submission_date\"] = pd.to_datetime(df_mo[\"submission_date\"])\n",
        "df_mi[\"submission_date\"] = pd.to_datetime(df_mi[\"submission_date\"])\n",
        "df_mi.sort_values(by='submission_date', inplace=True)\n",
        "df_mo.sort_values(by='submission_date', inplace=True)\n",
        "df_mo.fillna(0)"
      ],
      "metadata": {
        "colab": {
          "base_uri": "https://localhost:8080/",
          "height": 965
        },
        "id": "5EYjBrZw9o9s",
        "outputId": "36cd7c91-0d27-4798-ffdb-3c2f308042ff"
      },
      "execution_count": 34,
      "outputs": [
        {
          "output_type": "stream",
          "name": "stderr",
          "text": [
            "/usr/local/lib/python3.7/dist-packages/ipykernel_launcher.py:3: SettingWithCopyWarning: \n",
            "A value is trying to be set on a copy of a slice from a DataFrame.\n",
            "Try using .loc[row_indexer,col_indexer] = value instead\n",
            "\n",
            "See the caveats in the documentation: https://pandas.pydata.org/pandas-docs/stable/user_guide/indexing.html#returning-a-view-versus-a-copy\n",
            "  This is separate from the ipykernel package so we can avoid doing imports until\n",
            "/usr/local/lib/python3.7/dist-packages/ipykernel_launcher.py:4: SettingWithCopyWarning: \n",
            "A value is trying to be set on a copy of a slice from a DataFrame.\n",
            "Try using .loc[row_indexer,col_indexer] = value instead\n",
            "\n",
            "See the caveats in the documentation: https://pandas.pydata.org/pandas-docs/stable/user_guide/indexing.html#returning-a-view-versus-a-copy\n",
            "  after removing the cwd from sys.path.\n",
            "/usr/local/lib/python3.7/dist-packages/pandas/util/_decorators.py:311: SettingWithCopyWarning: \n",
            "A value is trying to be set on a copy of a slice from a DataFrame\n",
            "\n",
            "See the caveats in the documentation: https://pandas.pydata.org/pandas-docs/stable/user_guide/indexing.html#returning-a-view-versus-a-copy\n",
            "  return func(*args, **kwargs)\n"
          ]
        },
        {
          "output_type": "execute_result",
          "data": {
            "text/plain": [
              "      submission_date state  tot_cases  conf_cases  prob_cases  new_case  \\\n",
              "5693       2020-01-22    MO          0         0.0         0.0         0   \n",
              "5763       2020-01-23    MO          0         0.0         0.0         0   \n",
              "2927       2020-01-24    MO          0         0.0         0.0         0   \n",
              "7930       2020-01-25    MO          0         0.0         0.0         0   \n",
              "41977      2020-01-26    MO          0         0.0         0.0         0   \n",
              "...               ...   ...        ...         ...         ...       ...   \n",
              "39890      2022-05-07    MO    1428117         0.0         0.0         0   \n",
              "41451      2022-05-08    MO    1428117         0.0         0.0         0   \n",
              "8100       2022-05-09    MO    1428117         0.0         0.0         0   \n",
              "7720       2022-05-10    MO    1428117         0.0         0.0         0   \n",
              "43665      2022-05-11    MO    1428117         0.0         0.0         0   \n",
              "\n",
              "       pnew_case  tot_death  conf_death  prob_death  new_death  pnew_death  \\\n",
              "5693         0.0          0         0.0         0.0          0         0.0   \n",
              "5763         0.0          0         0.0         0.0          0         0.0   \n",
              "2927         0.0          0         0.0         0.0          0         0.0   \n",
              "7930         0.0          0         0.0         0.0          0         0.0   \n",
              "41977        0.0          0         0.0         0.0          0         0.0   \n",
              "...          ...        ...         ...         ...        ...         ...   \n",
              "39890        0.0      20382         0.0         0.0          0         0.0   \n",
              "41451        0.0      20382         0.0         0.0          0         0.0   \n",
              "8100         0.0      20382         0.0         0.0          0         0.0   \n",
              "7720         0.0      20382         0.0         0.0          0         0.0   \n",
              "43665        0.0      20382         0.0         0.0          0         0.0   \n",
              "\n",
              "                   created_at consent_cases consent_deaths  \n",
              "5693   03/26/2020 04:22:39 PM     Not agree      Not agree  \n",
              "5763   03/26/2020 04:22:39 PM     Not agree      Not agree  \n",
              "2927   03/26/2020 04:22:39 PM     Not agree      Not agree  \n",
              "7930   03/26/2020 04:22:39 PM     Not agree      Not agree  \n",
              "41977  03/26/2020 04:22:39 PM     Not agree      Not agree  \n",
              "...                       ...           ...            ...  \n",
              "39890  05/09/2022 01:14:40 PM     Not agree      Not agree  \n",
              "41451  05/09/2022 02:22:50 PM     Not agree      Not agree  \n",
              "8100   05/10/2022 01:23:16 PM     Not agree      Not agree  \n",
              "7720   05/11/2022 01:51:16 PM     Not agree      Not agree  \n",
              "43665  05/12/2022 01:16:14 PM     Not agree      Not agree  \n",
              "\n",
              "[841 rows x 15 columns]"
            ],
            "text/html": [
              "\n",
              "  <div id=\"df-e6c63a78-e77a-4b5f-b575-02f5b5febb27\">\n",
              "    <div class=\"colab-df-container\">\n",
              "      <div>\n",
              "<style scoped>\n",
              "    .dataframe tbody tr th:only-of-type {\n",
              "        vertical-align: middle;\n",
              "    }\n",
              "\n",
              "    .dataframe tbody tr th {\n",
              "        vertical-align: top;\n",
              "    }\n",
              "\n",
              "    .dataframe thead th {\n",
              "        text-align: right;\n",
              "    }\n",
              "</style>\n",
              "<table border=\"1\" class=\"dataframe\">\n",
              "  <thead>\n",
              "    <tr style=\"text-align: right;\">\n",
              "      <th></th>\n",
              "      <th>submission_date</th>\n",
              "      <th>state</th>\n",
              "      <th>tot_cases</th>\n",
              "      <th>conf_cases</th>\n",
              "      <th>prob_cases</th>\n",
              "      <th>new_case</th>\n",
              "      <th>pnew_case</th>\n",
              "      <th>tot_death</th>\n",
              "      <th>conf_death</th>\n",
              "      <th>prob_death</th>\n",
              "      <th>new_death</th>\n",
              "      <th>pnew_death</th>\n",
              "      <th>created_at</th>\n",
              "      <th>consent_cases</th>\n",
              "      <th>consent_deaths</th>\n",
              "    </tr>\n",
              "  </thead>\n",
              "  <tbody>\n",
              "    <tr>\n",
              "      <th>5693</th>\n",
              "      <td>2020-01-22</td>\n",
              "      <td>MO</td>\n",
              "      <td>0</td>\n",
              "      <td>0.0</td>\n",
              "      <td>0.0</td>\n",
              "      <td>0</td>\n",
              "      <td>0.0</td>\n",
              "      <td>0</td>\n",
              "      <td>0.0</td>\n",
              "      <td>0.0</td>\n",
              "      <td>0</td>\n",
              "      <td>0.0</td>\n",
              "      <td>03/26/2020 04:22:39 PM</td>\n",
              "      <td>Not agree</td>\n",
              "      <td>Not agree</td>\n",
              "    </tr>\n",
              "    <tr>\n",
              "      <th>5763</th>\n",
              "      <td>2020-01-23</td>\n",
              "      <td>MO</td>\n",
              "      <td>0</td>\n",
              "      <td>0.0</td>\n",
              "      <td>0.0</td>\n",
              "      <td>0</td>\n",
              "      <td>0.0</td>\n",
              "      <td>0</td>\n",
              "      <td>0.0</td>\n",
              "      <td>0.0</td>\n",
              "      <td>0</td>\n",
              "      <td>0.0</td>\n",
              "      <td>03/26/2020 04:22:39 PM</td>\n",
              "      <td>Not agree</td>\n",
              "      <td>Not agree</td>\n",
              "    </tr>\n",
              "    <tr>\n",
              "      <th>2927</th>\n",
              "      <td>2020-01-24</td>\n",
              "      <td>MO</td>\n",
              "      <td>0</td>\n",
              "      <td>0.0</td>\n",
              "      <td>0.0</td>\n",
              "      <td>0</td>\n",
              "      <td>0.0</td>\n",
              "      <td>0</td>\n",
              "      <td>0.0</td>\n",
              "      <td>0.0</td>\n",
              "      <td>0</td>\n",
              "      <td>0.0</td>\n",
              "      <td>03/26/2020 04:22:39 PM</td>\n",
              "      <td>Not agree</td>\n",
              "      <td>Not agree</td>\n",
              "    </tr>\n",
              "    <tr>\n",
              "      <th>7930</th>\n",
              "      <td>2020-01-25</td>\n",
              "      <td>MO</td>\n",
              "      <td>0</td>\n",
              "      <td>0.0</td>\n",
              "      <td>0.0</td>\n",
              "      <td>0</td>\n",
              "      <td>0.0</td>\n",
              "      <td>0</td>\n",
              "      <td>0.0</td>\n",
              "      <td>0.0</td>\n",
              "      <td>0</td>\n",
              "      <td>0.0</td>\n",
              "      <td>03/26/2020 04:22:39 PM</td>\n",
              "      <td>Not agree</td>\n",
              "      <td>Not agree</td>\n",
              "    </tr>\n",
              "    <tr>\n",
              "      <th>41977</th>\n",
              "      <td>2020-01-26</td>\n",
              "      <td>MO</td>\n",
              "      <td>0</td>\n",
              "      <td>0.0</td>\n",
              "      <td>0.0</td>\n",
              "      <td>0</td>\n",
              "      <td>0.0</td>\n",
              "      <td>0</td>\n",
              "      <td>0.0</td>\n",
              "      <td>0.0</td>\n",
              "      <td>0</td>\n",
              "      <td>0.0</td>\n",
              "      <td>03/26/2020 04:22:39 PM</td>\n",
              "      <td>Not agree</td>\n",
              "      <td>Not agree</td>\n",
              "    </tr>\n",
              "    <tr>\n",
              "      <th>...</th>\n",
              "      <td>...</td>\n",
              "      <td>...</td>\n",
              "      <td>...</td>\n",
              "      <td>...</td>\n",
              "      <td>...</td>\n",
              "      <td>...</td>\n",
              "      <td>...</td>\n",
              "      <td>...</td>\n",
              "      <td>...</td>\n",
              "      <td>...</td>\n",
              "      <td>...</td>\n",
              "      <td>...</td>\n",
              "      <td>...</td>\n",
              "      <td>...</td>\n",
              "      <td>...</td>\n",
              "    </tr>\n",
              "    <tr>\n",
              "      <th>39890</th>\n",
              "      <td>2022-05-07</td>\n",
              "      <td>MO</td>\n",
              "      <td>1428117</td>\n",
              "      <td>0.0</td>\n",
              "      <td>0.0</td>\n",
              "      <td>0</td>\n",
              "      <td>0.0</td>\n",
              "      <td>20382</td>\n",
              "      <td>0.0</td>\n",
              "      <td>0.0</td>\n",
              "      <td>0</td>\n",
              "      <td>0.0</td>\n",
              "      <td>05/09/2022 01:14:40 PM</td>\n",
              "      <td>Not agree</td>\n",
              "      <td>Not agree</td>\n",
              "    </tr>\n",
              "    <tr>\n",
              "      <th>41451</th>\n",
              "      <td>2022-05-08</td>\n",
              "      <td>MO</td>\n",
              "      <td>1428117</td>\n",
              "      <td>0.0</td>\n",
              "      <td>0.0</td>\n",
              "      <td>0</td>\n",
              "      <td>0.0</td>\n",
              "      <td>20382</td>\n",
              "      <td>0.0</td>\n",
              "      <td>0.0</td>\n",
              "      <td>0</td>\n",
              "      <td>0.0</td>\n",
              "      <td>05/09/2022 02:22:50 PM</td>\n",
              "      <td>Not agree</td>\n",
              "      <td>Not agree</td>\n",
              "    </tr>\n",
              "    <tr>\n",
              "      <th>8100</th>\n",
              "      <td>2022-05-09</td>\n",
              "      <td>MO</td>\n",
              "      <td>1428117</td>\n",
              "      <td>0.0</td>\n",
              "      <td>0.0</td>\n",
              "      <td>0</td>\n",
              "      <td>0.0</td>\n",
              "      <td>20382</td>\n",
              "      <td>0.0</td>\n",
              "      <td>0.0</td>\n",
              "      <td>0</td>\n",
              "      <td>0.0</td>\n",
              "      <td>05/10/2022 01:23:16 PM</td>\n",
              "      <td>Not agree</td>\n",
              "      <td>Not agree</td>\n",
              "    </tr>\n",
              "    <tr>\n",
              "      <th>7720</th>\n",
              "      <td>2022-05-10</td>\n",
              "      <td>MO</td>\n",
              "      <td>1428117</td>\n",
              "      <td>0.0</td>\n",
              "      <td>0.0</td>\n",
              "      <td>0</td>\n",
              "      <td>0.0</td>\n",
              "      <td>20382</td>\n",
              "      <td>0.0</td>\n",
              "      <td>0.0</td>\n",
              "      <td>0</td>\n",
              "      <td>0.0</td>\n",
              "      <td>05/11/2022 01:51:16 PM</td>\n",
              "      <td>Not agree</td>\n",
              "      <td>Not agree</td>\n",
              "    </tr>\n",
              "    <tr>\n",
              "      <th>43665</th>\n",
              "      <td>2022-05-11</td>\n",
              "      <td>MO</td>\n",
              "      <td>1428117</td>\n",
              "      <td>0.0</td>\n",
              "      <td>0.0</td>\n",
              "      <td>0</td>\n",
              "      <td>0.0</td>\n",
              "      <td>20382</td>\n",
              "      <td>0.0</td>\n",
              "      <td>0.0</td>\n",
              "      <td>0</td>\n",
              "      <td>0.0</td>\n",
              "      <td>05/12/2022 01:16:14 PM</td>\n",
              "      <td>Not agree</td>\n",
              "      <td>Not agree</td>\n",
              "    </tr>\n",
              "  </tbody>\n",
              "</table>\n",
              "<p>841 rows × 15 columns</p>\n",
              "</div>\n",
              "      <button class=\"colab-df-convert\" onclick=\"convertToInteractive('df-e6c63a78-e77a-4b5f-b575-02f5b5febb27')\"\n",
              "              title=\"Convert this dataframe to an interactive table.\"\n",
              "              style=\"display:none;\">\n",
              "        \n",
              "  <svg xmlns=\"http://www.w3.org/2000/svg\" height=\"24px\"viewBox=\"0 0 24 24\"\n",
              "       width=\"24px\">\n",
              "    <path d=\"M0 0h24v24H0V0z\" fill=\"none\"/>\n",
              "    <path d=\"M18.56 5.44l.94 2.06.94-2.06 2.06-.94-2.06-.94-.94-2.06-.94 2.06-2.06.94zm-11 1L8.5 8.5l.94-2.06 2.06-.94-2.06-.94L8.5 2.5l-.94 2.06-2.06.94zm10 10l.94 2.06.94-2.06 2.06-.94-2.06-.94-.94-2.06-.94 2.06-2.06.94z\"/><path d=\"M17.41 7.96l-1.37-1.37c-.4-.4-.92-.59-1.43-.59-.52 0-1.04.2-1.43.59L10.3 9.45l-7.72 7.72c-.78.78-.78 2.05 0 2.83L4 21.41c.39.39.9.59 1.41.59.51 0 1.02-.2 1.41-.59l7.78-7.78 2.81-2.81c.8-.78.8-2.07 0-2.86zM5.41 20L4 18.59l7.72-7.72 1.47 1.35L5.41 20z\"/>\n",
              "  </svg>\n",
              "      </button>\n",
              "      \n",
              "  <style>\n",
              "    .colab-df-container {\n",
              "      display:flex;\n",
              "      flex-wrap:wrap;\n",
              "      gap: 12px;\n",
              "    }\n",
              "\n",
              "    .colab-df-convert {\n",
              "      background-color: #E8F0FE;\n",
              "      border: none;\n",
              "      border-radius: 50%;\n",
              "      cursor: pointer;\n",
              "      display: none;\n",
              "      fill: #1967D2;\n",
              "      height: 32px;\n",
              "      padding: 0 0 0 0;\n",
              "      width: 32px;\n",
              "    }\n",
              "\n",
              "    .colab-df-convert:hover {\n",
              "      background-color: #E2EBFA;\n",
              "      box-shadow: 0px 1px 2px rgba(60, 64, 67, 0.3), 0px 1px 3px 1px rgba(60, 64, 67, 0.15);\n",
              "      fill: #174EA6;\n",
              "    }\n",
              "\n",
              "    [theme=dark] .colab-df-convert {\n",
              "      background-color: #3B4455;\n",
              "      fill: #D2E3FC;\n",
              "    }\n",
              "\n",
              "    [theme=dark] .colab-df-convert:hover {\n",
              "      background-color: #434B5C;\n",
              "      box-shadow: 0px 1px 3px 1px rgba(0, 0, 0, 0.15);\n",
              "      filter: drop-shadow(0px 1px 2px rgba(0, 0, 0, 0.3));\n",
              "      fill: #FFFFFF;\n",
              "    }\n",
              "  </style>\n",
              "\n",
              "      <script>\n",
              "        const buttonEl =\n",
              "          document.querySelector('#df-e6c63a78-e77a-4b5f-b575-02f5b5febb27 button.colab-df-convert');\n",
              "        buttonEl.style.display =\n",
              "          google.colab.kernel.accessAllowed ? 'block' : 'none';\n",
              "\n",
              "        async function convertToInteractive(key) {\n",
              "          const element = document.querySelector('#df-e6c63a78-e77a-4b5f-b575-02f5b5febb27');\n",
              "          const dataTable =\n",
              "            await google.colab.kernel.invokeFunction('convertToInteractive',\n",
              "                                                     [key], {});\n",
              "          if (!dataTable) return;\n",
              "\n",
              "          const docLinkHtml = 'Like what you see? Visit the ' +\n",
              "            '<a target=\"_blank\" href=https://colab.research.google.com/notebooks/data_table.ipynb>data table notebook</a>'\n",
              "            + ' to learn more about interactive tables.';\n",
              "          element.innerHTML = '';\n",
              "          dataTable['output_type'] = 'display_data';\n",
              "          await google.colab.output.renderOutput(dataTable, element);\n",
              "          const docLink = document.createElement('div');\n",
              "          docLink.innerHTML = docLinkHtml;\n",
              "          element.appendChild(docLink);\n",
              "        }\n",
              "      </script>\n",
              "    </div>\n",
              "  </div>\n",
              "  "
            ]
          },
          "metadata": {},
          "execution_count": 34
        }
      ]
    },
    {
      "cell_type": "code",
      "source": [
        "\n",
        "frames = [df_mi, df_mo]\n",
        "total_data = pd.concat(frames)\n",
        "# total_data[\"submission_date\"] = pd.to_datetime(total_data[\"submission_date\"])\n",
        "# total_data.sort_values(by=['state', 'submission_date'], inplace=True)\n",
        "total_data.to_csv('out.csv', encoding='utf-8', index=False)\n",
        "print(total_data)\n",
        "# print(total_data.dtypes)\n",
        "# print(\"\\nGiving a space\")\n",
        "print(total_data.iloc[0])\n",
        "print(\"Starting and ending date is : \\n\" + str(total_data['submission_date'].min()) + \"Ending is : \" + str(total_data['submission_date'].max()))"
      ],
      "metadata": {
        "colab": {
          "base_uri": "https://localhost:8080/"
        },
        "id": "IE8AFMuK9rd4",
        "outputId": "ff427077-f6ab-4b40-8b4c-1be57a72963f"
      },
      "execution_count": 35,
      "outputs": [
        {
          "output_type": "stream",
          "name": "stdout",
          "text": [
            "      submission_date state  tot_cases  conf_cases  prob_cases  new_case  \\\n",
            "8029       2020-01-22    MI          0         0.0         0.0         0   \n",
            "36128      2020-01-23    MI          0         0.0         0.0         0   \n",
            "7482       2020-01-24    MI          0         0.0         0.0         0   \n",
            "40637      2020-01-25    MI          0         0.0         0.0         0   \n",
            "37889      2020-01-26    MI          0         0.0         0.0         0   \n",
            "...               ...   ...        ...         ...         ...       ...   \n",
            "39890      2022-05-07    MO    1428117         0.0         0.0         0   \n",
            "41451      2022-05-08    MO    1428117         0.0         0.0         0   \n",
            "8100       2022-05-09    MO    1428117         0.0         0.0         0   \n",
            "7720       2022-05-10    MO    1428117         0.0         0.0         0   \n",
            "43665      2022-05-11    MO    1428117         0.0         0.0         0   \n",
            "\n",
            "       pnew_case  tot_death  conf_death  prob_death  new_death  pnew_death  \\\n",
            "8029         0.0          0         0.0         0.0          0         0.0   \n",
            "36128        0.0          0         0.0         0.0          0         0.0   \n",
            "7482         0.0          0         0.0         0.0          0         0.0   \n",
            "40637        0.0          0         0.0         0.0          0         0.0   \n",
            "37889        0.0          0         0.0         0.0          0         0.0   \n",
            "...          ...        ...         ...         ...        ...         ...   \n",
            "39890        0.0      20382         0.0         0.0          0         0.0   \n",
            "41451        0.0      20382         0.0         0.0          0         0.0   \n",
            "8100         0.0      20382         0.0         0.0          0         0.0   \n",
            "7720         0.0      20382         0.0         0.0          0         0.0   \n",
            "43665        0.0      20382         0.0         0.0          0         0.0   \n",
            "\n",
            "                   created_at consent_cases consent_deaths  \n",
            "8029   03/26/2020 04:22:39 PM         Agree          Agree  \n",
            "36128  03/26/2020 04:22:39 PM         Agree          Agree  \n",
            "7482   03/26/2020 04:22:39 PM         Agree          Agree  \n",
            "40637  03/26/2020 04:22:39 PM         Agree          Agree  \n",
            "37889  03/26/2020 04:22:39 PM         Agree          Agree  \n",
            "...                       ...           ...            ...  \n",
            "39890  05/09/2022 01:14:40 PM     Not agree      Not agree  \n",
            "41451  05/09/2022 02:22:50 PM     Not agree      Not agree  \n",
            "8100   05/10/2022 01:23:16 PM     Not agree      Not agree  \n",
            "7720   05/11/2022 01:51:16 PM     Not agree      Not agree  \n",
            "43665  05/12/2022 01:16:14 PM     Not agree      Not agree  \n",
            "\n",
            "[1682 rows x 15 columns]\n",
            "submission_date       2020-01-22 00:00:00\n",
            "state                                  MI\n",
            "tot_cases                               0\n",
            "conf_cases                            0.0\n",
            "prob_cases                            0.0\n",
            "new_case                                0\n",
            "pnew_case                             0.0\n",
            "tot_death                               0\n",
            "conf_death                            0.0\n",
            "prob_death                            0.0\n",
            "new_death                               0\n",
            "pnew_death                            0.0\n",
            "created_at         03/26/2020 04:22:39 PM\n",
            "consent_cases                       Agree\n",
            "consent_deaths                      Agree\n",
            "Name: 8029, dtype: object\n",
            "Starting and ending date is : \n",
            "2020-01-22 00:00:00Ending is : 2022-05-11 00:00:00\n"
          ]
        }
      ]
    },
    {
      "cell_type": "code",
      "source": [
        "def iqr(x):\n",
        "    x = sorted(x)\n",
        "    n = len(x)\n",
        "    t = n / 4\n",
        "    Q1 = x[np.int(np.ceil(t))]\n",
        "    t = 3 * (n / 4)\n",
        "    Q3 = x[np.int(np.ceil(t))]\n",
        "\n",
        "    return Q3 - Q1, Q1, Q3\n",
        "\n",
        "\n",
        "def outliers(x, column, a, b):\n",
        "    if (a < 0): a = 0\n",
        "    cond = (x[column] < a) | (x[column] > b)\n",
        "    outlier = x.loc[cond]\n",
        "\n",
        "    return outlier\n",
        "\n"
      ],
      "metadata": {
        "id": "G6Q1Wnsp9uno"
      },
      "execution_count": 76,
      "outputs": []
    },
    {
      "cell_type": "code",
      "source": [
        "column = 'new_case'\n",
        "iqr, q1, q3 = iqr(df_mi[column])\n",
        "threshold_min = q1 - 1.5 * iqr\n",
        "threshold_max = q3 + 1.5 * iqr\n",
        "\n",
        "outlier_data = outliers(df_mi, column, threshold_min, threshold_max)\n",
        "plt.scatter(df_mi['submission_date'], df_mi[column])\n",
        "plt.scatter(outlier_data['submission_date'], outlier_data[column])\n",
        "plt.show()\n",
        "print(len(outlier_data))"
      ],
      "metadata": {
        "colab": {
          "base_uri": "https://localhost:8080/",
          "height": 410
        },
        "id": "_RP3paAf9w-a",
        "outputId": "f6b2310c-5855-4fc7-f93c-8ae3e43cdf40"
      },
      "execution_count": 70,
      "outputs": [
        {
          "output_type": "stream",
          "name": "stderr",
          "text": [
            "/usr/local/lib/python3.7/dist-packages/ipykernel_launcher.py:5: DeprecationWarning: `np.int` is a deprecated alias for the builtin `int`. To silence this warning, use `int` by itself. Doing this will not modify any behavior and is safe. When replacing `np.int`, you may wish to use e.g. `np.int64` or `np.int32` to specify the precision. If you wish to review your current use, check the release note link for additional information.\n",
            "Deprecated in NumPy 1.20; for more details and guidance: https://numpy.org/devdocs/release/1.20.0-notes.html#deprecations\n",
            "  \"\"\"\n",
            "/usr/local/lib/python3.7/dist-packages/ipykernel_launcher.py:7: DeprecationWarning: `np.int` is a deprecated alias for the builtin `int`. To silence this warning, use `int` by itself. Doing this will not modify any behavior and is safe. When replacing `np.int`, you may wish to use e.g. `np.int64` or `np.int32` to specify the precision. If you wish to review your current use, check the release note link for additional information.\n",
            "Deprecated in NumPy 1.20; for more details and guidance: https://numpy.org/devdocs/release/1.20.0-notes.html#deprecations\n",
            "  import sys\n"
          ]
        },
        {
          "output_type": "display_data",
          "data": {
            "text/plain": [
              "<Figure size 432x288 with 1 Axes>"
            ],
            "image/png": "[encoded data removed]"
          },
          "metadata": {
            "needs_background": "light"
          }
        },
        {
          "output_type": "stream",
          "name": "stdout",
          "text": [
            "66\n"
          ]
        }
      ]
    },
    {
      "cell_type": "code",
      "source": [
        "column = 'new_case'\n",
        "iqr, q1, q3 = iqr(df_mo[column])\n",
        "threshold_min = q1 - 1.5 * iqr\n",
        "threshold_max = q3 + 1.5 * iqr\n",
        "\n",
        "outlier_data = outliers(df_mo, column, threshold_min, threshold_max)\n",
        "plt.scatter(df_mo['submission_date'], df_mo[column])\n",
        "plt.scatter(outlier_data['submission_date'], outlier_data[column])\n",
        "plt.show()\n",
        "print(len(outlier_data))"
      ],
      "metadata": {
        "colab": {
          "base_uri": "https://localhost:8080/",
          "height": 410
        },
        "id": "uaWld14_9zqt",
        "outputId": "f5fa7aa8-1bc7-4c35-8044-b0e42b10dfcb"
      },
      "execution_count": 73,
      "outputs": [
        {
          "output_type": "stream",
          "name": "stderr",
          "text": [
            "/usr/local/lib/python3.7/dist-packages/ipykernel_launcher.py:5: DeprecationWarning: `np.int` is a deprecated alias for the builtin `int`. To silence this warning, use `int` by itself. Doing this will not modify any behavior and is safe. When replacing `np.int`, you may wish to use e.g. `np.int64` or `np.int32` to specify the precision. If you wish to review your current use, check the release note link for additional information.\n",
            "Deprecated in NumPy 1.20; for more details and guidance: https://numpy.org/devdocs/release/1.20.0-notes.html#deprecations\n",
            "  \"\"\"\n",
            "/usr/local/lib/python3.7/dist-packages/ipykernel_launcher.py:7: DeprecationWarning: `np.int` is a deprecated alias for the builtin `int`. To silence this warning, use `int` by itself. Doing this will not modify any behavior and is safe. When replacing `np.int`, you may wish to use e.g. `np.int64` or `np.int32` to specify the precision. If you wish to review your current use, check the release note link for additional information.\n",
            "Deprecated in NumPy 1.20; for more details and guidance: https://numpy.org/devdocs/release/1.20.0-notes.html#deprecations\n",
            "  import sys\n"
          ]
        },
        {
          "output_type": "display_data",
          "data": {
            "text/plain": [
              "<Figure size 432x288 with 1 Axes>"
            ],
            "image/png": "[encoded data removed]"
          },
          "metadata": {
            "needs_background": "light"
          }
        },
        {
          "output_type": "stream",
          "name": "stdout",
          "text": [
            "58\n"
          ]
        }
      ]
    },
    {
      "cell_type": "code",
      "source": [
        "column = 'new_death'\n",
        "iqr, q1, q3 = iqr(df_mi[column])\n",
        "threshold_min = q1 - 1.5 * iqr\n",
        "threshold_max = q3 + 1.5 * iqr\n",
        "\n",
        "outlier_data = outliers(df_mi, column, threshold_min, threshold_max)\n",
        "plt.scatter(df_mi['submission_date'], df_mi[column])\n",
        "plt.scatter(outlier_data['submission_date'], outlier_data[column])\n",
        "plt.show()"
      ],
      "metadata": {
        "colab": {
          "base_uri": "https://localhost:8080/",
          "height": 392
        },
        "id": "I3-wb5dt9z_q",
        "outputId": "fa61cedf-6d25-45a7-e9e7-d4626a3017d1"
      },
      "execution_count": 75,
      "outputs": [
        {
          "output_type": "stream",
          "name": "stderr",
          "text": [
            "/usr/local/lib/python3.7/dist-packages/ipykernel_launcher.py:5: DeprecationWarning: `np.int` is a deprecated alias for the builtin `int`. To silence this warning, use `int` by itself. Doing this will not modify any behavior and is safe. When replacing `np.int`, you may wish to use e.g. `np.int64` or `np.int32` to specify the precision. If you wish to review your current use, check the release note link for additional information.\n",
            "Deprecated in NumPy 1.20; for more details and guidance: https://numpy.org/devdocs/release/1.20.0-notes.html#deprecations\n",
            "  \"\"\"\n",
            "/usr/local/lib/python3.7/dist-packages/ipykernel_launcher.py:7: DeprecationWarning: `np.int` is a deprecated alias for the builtin `int`. To silence this warning, use `int` by itself. Doing this will not modify any behavior and is safe. When replacing `np.int`, you may wish to use e.g. `np.int64` or `np.int32` to specify the precision. If you wish to review your current use, check the release note link for additional information.\n",
            "Deprecated in NumPy 1.20; for more details and guidance: https://numpy.org/devdocs/release/1.20.0-notes.html#deprecations\n",
            "  import sys\n"
          ]
        },
        {
          "output_type": "display_data",
          "data": {
            "text/plain": [
              "<Figure size 432x288 with 1 Axes>"
            ],
            "image/png": "[encoded data removed]"
          },
          "metadata": {
            "needs_background": "light"
          }
        }
      ]
    },
    {
      "cell_type": "code",
      "source": [
        "column = 'new_death'\n",
        "iqr, q1, q3 = iqr(df_mo[column])\n",
        "threshold_min = q1 - 1.5 * iqr\n",
        "threshold_max = q3 + 1.5 * iqr\n",
        "\n",
        "outlier_data = outliers(df_mo, column, threshold_min, threshold_max)\n",
        "plt.scatter(df_mo['submission_date'], df_mo[column])\n",
        "plt.scatter(outlier_data['submission_date'], outlier_data[column])\n",
        "plt.show()"
      ],
      "metadata": {
        "colab": {
          "base_uri": "https://localhost:8080/",
          "height": 392
        },
        "id": "TmMWHvdf90Je",
        "outputId": "99bda019-c1cf-4e80-b3aa-dd7c23b51efa"
      },
      "execution_count": 77,
      "outputs": [
        {
          "output_type": "stream",
          "name": "stderr",
          "text": [
            "/usr/local/lib/python3.7/dist-packages/ipykernel_launcher.py:5: DeprecationWarning: `np.int` is a deprecated alias for the builtin `int`. To silence this warning, use `int` by itself. Doing this will not modify any behavior and is safe. When replacing `np.int`, you may wish to use e.g. `np.int64` or `np.int32` to specify the precision. If you wish to review your current use, check the release note link for additional information.\n",
            "Deprecated in NumPy 1.20; for more details and guidance: https://numpy.org/devdocs/release/1.20.0-notes.html#deprecations\n",
            "  \"\"\"\n",
            "/usr/local/lib/python3.7/dist-packages/ipykernel_launcher.py:7: DeprecationWarning: `np.int` is a deprecated alias for the builtin `int`. To silence this warning, use `int` by itself. Doing this will not modify any behavior and is safe. When replacing `np.int`, you may wish to use e.g. `np.int64` or `np.int32` to specify the precision. If you wish to review your current use, check the release note link for additional information.\n",
            "Deprecated in NumPy 1.20; for more details and guidance: https://numpy.org/devdocs/release/1.20.0-notes.html#deprecations\n",
            "  import sys\n"
          ]
        },
        {
          "output_type": "display_data",
          "data": {
            "text/plain": [
              "<Figure size 432x288 with 1 Axes>"
            ],
            "image/png": "[encoded data removed]"
          },
          "metadata": {
            "needs_background": "light"
          }
        }
      ]
    }
  ]
}