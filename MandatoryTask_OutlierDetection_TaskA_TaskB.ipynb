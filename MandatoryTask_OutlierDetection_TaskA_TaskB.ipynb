{
  "nbformat": 4,
  "nbformat_minor": 0,
  "metadata": {
    "colab": {
      "name": "NewOutliers.ipynb",
      "provenance": [],
      "collapsed_sections": []
    },
    "kernelspec": {
      "name": "python3",
      "display_name": "Python 3"
    },
    "language_info": {
      "name": "python"
    }
  },
  "cells": [
    {
      "cell_type": "code",
      "execution_count": 210,
      "metadata": {
        "id": "LaZyppN_rqQ_"
      },
      "outputs": [],
      "source": [
        "import pandas as pd\n",
        "import numpy as np\n",
        "import datetime\n",
        "import math\n",
        "from math import *\n",
        "import matplotlib.pyplot as plt\n",
        "from scipy.stats import gamma\n",
        "import seaborn as sns\n",
        "from scipy.stats import poisson, geom, binom"
      ]
    },
    {
      "cell_type": "code",
      "source": [
        "from google.colab import drive\n",
        "drive.mount('/content/gdrive')\n",
        "%cd /content/gdrive/My Drive/Colab Notebooks"
      ],
      "metadata": {
        "colab": {
          "base_uri": "https://localhost:8080/"
        },
        "id": "nCj5UMaarsZr",
        "outputId": "926d41be-27c9-452c-c3ca-9973434e6716"
      },
      "execution_count": 211,
      "outputs": [
        {
          "output_type": "stream",
          "name": "stdout",
          "text": [
            "Drive already mounted at /content/gdrive; to attempt to forcibly remount, call drive.mount(\"/content/gdrive\", force_remount=True).\n",
            "/content/gdrive/My Drive/Colab Notebooks\n"
          ]
        }
      ]
    },
    {
      "cell_type": "code",
      "source": [
        "\n",
        "df = pd.read_csv(\"./Cases.csv\")\n",
        "# Getting total data based on State, MICHIGAN, MISSOURI\n",
        "df['conf_cases'] = df['conf_cases'].fillna(0)\n",
        "df['prob_cases'] = df['prob_cases'].fillna(0)\n",
        "df['pnew_case'] = df['pnew_case'].fillna(0)\n",
        "df['conf_death'] = df['conf_death'].fillna(0)\n",
        "df['prob_death'] = df['prob_death'].fillna(0)\n",
        "df['pnew_death'] = df['pnew_death'].fillna(0)"
      ],
      "metadata": {
        "id": "DJJaeRjsr4MF"
      },
      "execution_count": 212,
      "outputs": []
    },
    {
      "cell_type": "code",
      "source": [
        "df_mo = df[df['state'] == \"MO\"]\n",
        "df_mi = df[df['state'] == \"MI\"]\n",
        "df_mo[\"submission_date\"] = pd.to_datetime(df_mo[\"submission_date\"])\n",
        "df_mi[\"submission_date\"] = pd.to_datetime(df_mi[\"submission_date\"])\n",
        "df_mi.sort_values(by='submission_date', inplace=True)\n",
        "df_mo.sort_values(by='submission_date', inplace=True)\n",
        "df_mo = df_mo[['submission_date', 'new_case', 'new_death']]\n",
        "df_mi = df_mi[['submission_date', 'new_case', 'new_death']]"
      ],
      "metadata": {
        "colab": {
          "base_uri": "https://localhost:8080/"
        },
        "id": "pYMqx_ler5XB",
        "outputId": "5d44d61a-a379-49eb-ad20-e48595ea85e9"
      },
      "execution_count": 213,
      "outputs": [
        {
          "output_type": "stream",
          "name": "stderr",
          "text": [
            "/usr/local/lib/python3.7/dist-packages/ipykernel_launcher.py:3: SettingWithCopyWarning: \n",
            "A value is trying to be set on a copy of a slice from a DataFrame.\n",
            "Try using .loc[row_indexer,col_indexer] = value instead\n",
            "\n",
            "See the caveats in the documentation: https://pandas.pydata.org/pandas-docs/stable/user_guide/indexing.html#returning-a-view-versus-a-copy\n",
            "  This is separate from the ipykernel package so we can avoid doing imports until\n",
            "/usr/local/lib/python3.7/dist-packages/ipykernel_launcher.py:4: SettingWithCopyWarning: \n",
            "A value is trying to be set on a copy of a slice from a DataFrame.\n",
            "Try using .loc[row_indexer,col_indexer] = value instead\n",
            "\n",
            "See the caveats in the documentation: https://pandas.pydata.org/pandas-docs/stable/user_guide/indexing.html#returning-a-view-versus-a-copy\n",
            "  after removing the cwd from sys.path.\n",
            "/usr/local/lib/python3.7/dist-packages/pandas/util/_decorators.py:311: SettingWithCopyWarning: \n",
            "A value is trying to be set on a copy of a slice from a DataFrame\n",
            "\n",
            "See the caveats in the documentation: https://pandas.pydata.org/pandas-docs/stable/user_guide/indexing.html#returning-a-view-versus-a-copy\n",
            "  return func(*args, **kwargs)\n"
          ]
        }
      ]
    },
    {
      "cell_type": "code",
      "source": [
        "frames = [df_mi, df_mo]\n",
        "total_data = pd.merge(df_mi, df_mo, on='submission_date')\n",
        "total_data = total_data.rename(\n",
        "    columns={'submission_date':'Date','new_case_x': 'new_case_MO', 'new_case_y': 'new_case_MI','new_death_x': 'new_death_MO',\n",
        "             'new_death_y': 'new_death_MI'})\n",
        "# total_data[\"submission_date\"] = pd.to_datetime(total_data[\"submission_date\"])\n",
        "# total_data.sort_values(by=['state', 'submission_date'], inplace=True)\n",
        "total_data.to_csv('out.csv', encoding='utf-8', index=False)\n",
        "print(total_data.shape)\n",
        "# print(total_data.dtypes)\n",
        "# print(\"\\nGiving a space\")\n",
        "total_data[\"Year\"] = pd.Series(total_data[\"Date\"]).apply(lambda x: x.year)\n",
        "total_data[\"Month\"] = pd.Series(total_data[\"Date\"]).apply(lambda x: x.month)\n",
        "print(total_data.info())\n",
        "total_data = total_data.reindex(columns=['Date','new_case_MO','new_case_MI','new_death_MO','new_death_MI','Year','Month'])\n",
        "print(\"Starting and ending date is : \\n\" + str(total_data['Date'].min()) + \"Ending is : \" + str(\n",
        "    total_data['Date'].max()))\n",
        "print(\"***************Before Deleting Outlier Data**********************************\")"
      ],
      "metadata": {
        "colab": {
          "base_uri": "https://localhost:8080/"
        },
        "id": "sbLQIotkr-zV",
        "outputId": "136860c0-19d4-4b4c-a2b8-4de74c04118e"
      },
      "execution_count": 214,
      "outputs": [
        {
          "output_type": "stream",
          "name": "stdout",
          "text": [
            "(841, 5)\n",
            "<class 'pandas.core.frame.DataFrame'>\n",
            "Int64Index: 841 entries, 0 to 840\n",
            "Data columns (total 7 columns):\n",
            " #   Column        Non-Null Count  Dtype         \n",
            "---  ------        --------------  -----         \n",
            " 0   Date          841 non-null    datetime64[ns]\n",
            " 1   new_case_MO   841 non-null    int64         \n",
            " 2   new_death_MO  841 non-null    int64         \n",
            " 3   new_case_MI   841 non-null    int64         \n",
            " 4   new_death_MI  841 non-null    int64         \n",
            " 5   Year          841 non-null    int64         \n",
            " 6   Month         841 non-null    int64         \n",
            "dtypes: datetime64[ns](1), int64(6)\n",
            "memory usage: 52.6 KB\n",
            "None\n",
            "Starting and ending date is : \n",
            "2020-01-22 00:00:00Ending is : 2022-05-11 00:00:00\n",
            "***************Before Deleting Outlier Data**********************************\n"
          ]
        }
      ]
    },
    {
      "cell_type": "code",
      "source": [
        "plt.plot(\"Date\", \"new_case_MO\", data=total_data)\n",
        "plt.show()"
      ],
      "metadata": {
        "colab": {
          "base_uri": "https://localhost:8080/",
          "height": 265
        },
        "id": "bjP9gWezfMVp",
        "outputId": "b2abf174-ad00-472f-ee12-bde072df53a1"
      },
      "execution_count": 215,
      "outputs": [
        {
          "output_type": "display_data",
          "data": {
            "text/plain": [
              "<Figure size 432x288 with 1 Axes>"
            ],
            "image/png": "[encoded data removed]"
          },
          "metadata": {
            "needs_background": "light"
          }
        }
      ]
    },
    {
      "cell_type": "code",
      "source": [
        "plt.plot(\"Date\", \"new_case_MI\", data=total_data)\n",
        "plt.show()"
      ],
      "metadata": {
        "colab": {
          "base_uri": "https://localhost:8080/",
          "height": 265
        },
        "id": "hYXGv1dffhBZ",
        "outputId": "601bcd1b-39af-493a-bc6a-97e480b144b6"
      },
      "execution_count": 216,
      "outputs": [
        {
          "output_type": "display_data",
          "data": {
            "text/plain": [
              "<Figure size 432x288 with 1 Axes>"
            ],
            "image/png": "[encoded data removed]"
          },
          "metadata": {
            "needs_background": "light"
          }
        }
      ]
    },
    {
      "cell_type": "code",
      "source": [
        "plt.plot(\"Date\", \"new_death_MO\", data=total_data)\n",
        "plt.show()"
      ],
      "metadata": {
        "colab": {
          "base_uri": "https://localhost:8080/",
          "height": 265
        },
        "id": "41tPARPXfhMO",
        "outputId": "ca99a9d4-ecf5-446d-8aa1-deb446fe0f85"
      },
      "execution_count": 217,
      "outputs": [
        {
          "output_type": "display_data",
          "data": {
            "text/plain": [
              "<Figure size 432x288 with 1 Axes>"
            ],
            "image/png": "[encoded data removed]"
          },
          "metadata": {
            "needs_background": "light"
          }
        }
      ]
    },
    {
      "cell_type": "code",
      "source": [
        "plt.plot(\"Date\", \"new_death_MI\", data=total_data)\n",
        "plt.show()"
      ],
      "metadata": {
        "colab": {
          "base_uri": "https://localhost:8080/",
          "height": 265
        },
        "id": "CEeCsCjFfhUm",
        "outputId": "9a466563-8eef-43b4-8c1f-157883c6fd7b"
      },
      "execution_count": 218,
      "outputs": [
        {
          "output_type": "display_data",
          "data": {
            "text/plain": [
              "<Figure size 432x288 with 1 Axes>"
            ],
            "image/png": "[encoded data removed]"
          },
          "metadata": {
            "needs_background": "light"
          }
        }
      ]
    },
    {
      "cell_type": "code",
      "source": [
        "def detect_outliers(data, numerical_attributes):\n",
        "    outlier_indices = []\n",
        "\n",
        "    for col in numerical_attributes:\n",
        "        Q1 = np.percentile(data[col], 25)\n",
        "        Q3 = np.percentile(data[col], 75)\n",
        "        IQR = Q3 - Q1\n",
        "        outlier_step = 1.5 * IQR\n",
        "\n",
        "        outlier_list_col = sorted(\n",
        "            data[((data[col] < Q1 - outlier_step) | (data[col] > Q3 + outlier_step)) & data[col] != 0].index)\n",
        "        # append the found outlier indices for col to the list of outlier indices\n",
        "        outlier_indices.extend(outlier_list_col)\n",
        "        print(\"Outliers in Column \" + str(col) + \" : \" + str(len(outlier_list_col)))\n",
        "    outlier_indices = list(set(outlier_indices))\n",
        "\n",
        "    return outlier_indices"
      ],
      "metadata": {
        "id": "J1HYxOfSsARZ"
      },
      "execution_count": 219,
      "outputs": []
    },
    {
      "cell_type": "code",
      "source": [
        "\n",
        "\n",
        "numerical_attributes = ['new_case_MO', 'new_case_MI', 'new_death_MO', 'new_death_MI']\n",
        "outliers_in_data = detect_outliers(total_data, numerical_attributes)\n",
        "print(\"These are the number of rows that have Outliers when 0 is not considered to be an outlier:\", len(outliers_in_data))"
      ],
      "metadata": {
        "colab": {
          "base_uri": "https://localhost:8080/"
        },
        "id": "uyLj9F0MsEiu",
        "outputId": "ec972224-527e-4ec8-c584-d3162169e830"
      },
      "execution_count": 220,
      "outputs": [
        {
          "output_type": "stream",
          "name": "stdout",
          "text": [
            "Outliers in Column new_case_MO : 41\n",
            "Outliers in Column new_case_MI : 30\n",
            "Outliers in Column new_death_MO : 26\n",
            "Outliers in Column new_death_MI : 37\n",
            "These are the number of rows that have Outliers when 0 is not considered to be an outlier: 114\n"
          ]
        }
      ]
    },
    {
      "cell_type": "code",
      "source": [
        "new_data = total_data.copy()\n",
        "\n",
        "total_data= total_data[~total_data.index.isin(outliers_in_data)]\n",
        "\n",
        "print(\"Dataset information after removing the outliers: \\n\")\n",
        "print(total_data.describe())\n",
        "print(\"\\n\")\n",
        "print(\"\\n\")\n",
        "print(\"**************** After Removing Outlier Data****************************\")"
      ],
      "metadata": {
        "colab": {
          "base_uri": "https://localhost:8080/"
        },
        "id": "mADEbImLsZJ6",
        "outputId": "6b5f9cbf-2397-42bd-c47d-aa5a12899076"
      },
      "execution_count": 221,
      "outputs": [
        {
          "output_type": "stream",
          "name": "stdout",
          "text": [
            "Dataset information after removing the outliers: \n",
            "\n",
            "        new_case_MO   new_case_MI  new_death_MO  new_death_MI         Year  \\\n",
            "count    727.000000    727.000000    727.000000    727.000000   727.000000   \n",
            "mean    1866.863824   1227.821183     28.159560     14.433287  2020.711142   \n",
            "std     2410.623563   1651.348478     35.069775     23.164774     0.681656   \n",
            "min        0.000000      0.000000     -4.000000     -2.000000  2020.000000   \n",
            "25%      340.000000    241.500000      5.000000      1.000000  2020.000000   \n",
            "50%     1284.000000    738.000000     14.000000      8.000000  2021.000000   \n",
            "75%     2333.000000   1745.000000     40.000000     18.000000  2021.000000   \n",
            "max    25560.000000  20116.000000    244.000000    314.000000  2022.000000   \n",
            "\n",
            "            Month  \n",
            "count  727.000000  \n",
            "mean     5.932600  \n",
            "std      3.215342  \n",
            "min      1.000000  \n",
            "25%      3.000000  \n",
            "50%      6.000000  \n",
            "75%      9.000000  \n",
            "max     12.000000  \n",
            "\n",
            "\n",
            "\n",
            "\n",
            "**************** After Removing Outlier Data****************************\n"
          ]
        }
      ]
    },
    {
      "cell_type": "code",
      "source": [
        "plt.plot(\"Date\", \"new_case_MO\", data=total_data)\n",
        "plt.show()"
      ],
      "metadata": {
        "colab": {
          "base_uri": "https://localhost:8080/",
          "height": 265
        },
        "id": "cF4-wLLms80J",
        "outputId": "f52cd234-dabd-42f9-e2f6-ba6152dcf200"
      },
      "execution_count": 222,
      "outputs": [
        {
          "output_type": "display_data",
          "data": {
            "text/plain": [
              "<Figure size 432x288 with 1 Axes>"
            ],
            "image/png": "[encoded data removed]"
          },
          "metadata": {
            "needs_background": "light"
          }
        }
      ]
    },
    {
      "cell_type": "code",
      "source": [
        "plt.plot(\"Date\", \"new_case_MI\", data=total_data)\n",
        "plt.show()"
      ],
      "metadata": {
        "colab": {
          "base_uri": "https://localhost:8080/",
          "height": 265
        },
        "id": "yczXU-9Js9AV",
        "outputId": "684e0f0c-5ba0-4bec-a261-02abe73b23a2"
      },
      "execution_count": 223,
      "outputs": [
        {
          "output_type": "display_data",
          "data": {
            "text/plain": [
              "<Figure size 432x288 with 1 Axes>"
            ],
            "image/png": "[encoded data removed]"
          },
          "metadata": {
            "needs_background": "light"
          }
        }
      ]
    },
    {
      "cell_type": "code",
      "source": [
        "plt.plot(\"Date\", \"new_death_MO\", data=total_data)\n",
        "plt.show()"
      ],
      "metadata": {
        "colab": {
          "base_uri": "https://localhost:8080/",
          "height": 265
        },
        "id": "Khi17wH8s9GX",
        "outputId": "11b68ed6-b9d9-4cb6-cc86-e3a2603de179"
      },
      "execution_count": 224,
      "outputs": [
        {
          "output_type": "display_data",
          "data": {
            "text/plain": [
              "<Figure size 432x288 with 1 Axes>"
            ],
            "image/png": "[encoded data removed]"
          },
          "metadata": {
            "needs_background": "light"
          }
        }
      ]
    },
    {
      "cell_type": "code",
      "source": [
        "plt.plot(\"Date\", \"new_death_MI\", data=total_data)\n",
        "plt.show()"
      ],
      "metadata": {
        "colab": {
          "base_uri": "https://localhost:8080/",
          "height": 265
        },
        "id": "almkivAGs9Iv",
        "outputId": "1ad43c01-77af-4872-8cac-5f60218bf739"
      },
      "execution_count": 225,
      "outputs": [
        {
          "output_type": "display_data",
          "data": {
            "text/plain": [
              "<Figure size 432x288 with 1 Axes>"
            ],
            "image/png": "[encoded data removed]"
          },
          "metadata": {
            "needs_background": "light"
          }
        }
      ]
    },
    {
      "cell_type": "code",
      "source": [
        "#Considering data only for February and March months for year 2021\n",
        "# total_data = new_data\n",
        "feb_cases = total_data[(total_data.Date > '2021-01-31') & (total_data.Date < '2021-03-01')]\n",
        "\n",
        "feb_mo_cases = feb_cases['new_case_MO'].to_numpy()\n",
        "feb_mo_deaths = feb_cases['new_death_MO'].to_numpy()\n",
        "\n",
        "feb_mi_cases = feb_cases['new_case_MI'].to_numpy()\n",
        "feb_mi_deaths = feb_cases['new_death_MI'].to_numpy()\n",
        "\n",
        "\n",
        "\n",
        "march_cases = total_data[(total_data.Date > '2021-02-28') & (total_data.Date <= '2021-03-31')]\n",
        "# print(march_cases)\n",
        "\n",
        "march_mo_cases = march_cases['new_case_MO'].to_numpy()\n",
        "march_mo_deaths = march_cases['new_death_MO'].to_numpy()\n",
        "\n",
        "march_mi_cases = march_cases['new_case_MI'].to_numpy()\n",
        "march_mi_deaths = march_cases['new_death_MI'].to_numpy()\n",
        "print(\"Number of data points for February month: \"+str(len(feb_cases)))\n",
        "print(\"Number of data points for March month: \"+str(len(march_cases)))\n",
        "n = total_data.shape[0]\n",
        "print(n)"
      ],
      "metadata": {
        "colab": {
          "base_uri": "https://localhost:8080/"
        },
        "id": "6pPyammZ51ax",
        "outputId": "e25c1630-a3be-4a93-855f-371c6a24e3f6"
      },
      "execution_count": 226,
      "outputs": [
        {
          "output_type": "stream",
          "name": "stdout",
          "text": [
            "Number of data points for February month: 28\n",
            "Number of data points for March month: 30\n",
            "727\n"
          ]
        }
      ]
    },
    {
      "cell_type": "code",
      "source": [
        "true_std_conf_MO = np.sqrt(\n",
        "    (1 / (n)) * sum(np.square(total_data[\"new_case_MO\"] - total_data[\"new_case_MO\"].mean()))\n",
        ")\n",
        "true_std_conf_MI = np.sqrt(\n",
        "    (1 / (n)) * sum(np.square(total_data[\"new_case_MO\"] - total_data[\"new_case_MI\"].mean()))\n",
        ")\n",
        "true_std_death_MO = np.sqrt(\n",
        "    (1 / (n)) * sum(np.square(total_data[\"new_case_MO\"] - total_data[\"new_death_MO\"].mean()))\n",
        ")\n",
        "true_std_death_MI = np.sqrt(\n",
        "    (1 / (n)) * sum(np.square(total_data[\"new_case_MO\"] - total_data[\"new_death_MI\"].mean()))\n",
        ")\n",
        "\n",
        "print(true_std_conf_MO)\n",
        "print(true_std_conf_MI)\n",
        "print(true_std_death_MO)\n",
        "print(true_std_death_MI)"
      ],
      "metadata": {
        "colab": {
          "base_uri": "https://localhost:8080/"
        },
        "id": "pFYTcVLklGBn",
        "outputId": "ffb2cfde-c7b3-4e7b-fa5b-2e3bedc7d9aa"
      },
      "execution_count": 227,
      "outputs": [
        {
          "output_type": "stream",
          "name": "stdout",
          "text": [
            "2408.9650672744865\n",
            "2492.2857364982747\n",
            "3030.502609496441\n",
            "3038.8503727109687\n"
          ]
        }
      ]
    },
    {
      "cell_type": "code",
      "source": [
        "#Defining Wald's test \n",
        "#Assuming poisson's distribution \n",
        "\n",
        "def walds_test(feb, march):\n",
        "    \n",
        "    feb_mean = feb.mean()\n",
        "    march_mean = march.mean()\n",
        "    print(\"February Month Mean: \"+str(feb_mean))\n",
        "    print(\"March Month Mean: \"+str(march_mean))\n",
        "    #Variance and mean are equal for poisson distribution\n",
        "    standard_error = math.sqrt(march_mean/len(march))\n",
        "    #computing the W statistic \n",
        "    W = np.abs((march_mean - feb_mean)/standard_error)\n",
        "    Z_alpha = 1.96\n",
        "    print(\"Walds w-statistics :\")\n",
        "    print(str(W) + \"\\n\")\n",
        "    if(W <= Z_alpha):\n",
        "        return \"Accept Ho since the value of W statistic \"+ str(W)+\" is less than threshold value 1.96\"\n",
        "    else:\n",
        "        return \"Reject Ho since the value of W statistic \"+ str(W)+\" is greater than threshold value 1.96\""
      ],
      "metadata": {
        "id": "gyrSWT1580y7"
      },
      "execution_count": 228,
      "outputs": []
    },
    {
      "cell_type": "code",
      "source": [
        "print(\"Procedure:\")\n",
        "print(\"\")\n",
        "print(\"Results for every column:\")\n",
        "print(\"Missouri Confirmed Cases\")\n",
        "print(walds_test(feb_mo_cases,march_mo_cases))\n",
        "print(\"\\n\")\n",
        "print(\"Missouri Deaths\")\n",
        "print(walds_test(feb_mo_deaths,march_mo_deaths))\n",
        "print(\"\\n\")\n",
        "print(\"Michigan Confirmed Cases\")\n",
        "print(walds_test(feb_mi_cases,march_mi_cases))\n",
        "print(\"\\n\")\n",
        "print(\"Michigan Deaths\")\n",
        "print(walds_test(feb_mi_deaths,march_mi_deaths))\n",
        "print(\"\\n\")"
      ],
      "metadata": {
        "colab": {
          "base_uri": "https://localhost:8080/"
        },
        "id": "fpIB7Xyo82hE",
        "outputId": "cee101e2-a617-47bc-a144-21601d4fc1d3"
      },
      "execution_count": 229,
      "outputs": [
        {
          "output_type": "stream",
          "name": "stdout",
          "text": [
            "Procedure:\n",
            "\n",
            "Results for every column:\n",
            "Missouri Confirmed Cases\n",
            "February Month Mean: 1247.0714285714287\n",
            "March Month Mean: 3430.4333333333334\n",
            "Walds w-statistics :\n",
            "204.17937212740563\n",
            "\n",
            "Reject Ho since the value of W statistic 204.17937212740563 is greater than threshold value 1.96\n",
            "\n",
            "\n",
            "Missouri Deaths\n",
            "February Month Mean: 29.285714285714285\n",
            "March Month Mean: 20.933333333333334\n",
            "Walds w-statistics :\n",
            "9.998888538258635\n",
            "\n",
            "Reject Ho since the value of W statistic 9.998888538258635 is greater than threshold value 1.96\n",
            "\n",
            "\n",
            "Michigan Confirmed Cases\n",
            "February Month Mean: 881.7857142857143\n",
            "March Month Mean: 543.7333333333333\n",
            "Walds w-statistics :\n",
            "79.40569429496196\n",
            "\n",
            "Reject Ho since the value of W statistic 79.40569429496196 is greater than threshold value 1.96\n",
            "\n",
            "\n",
            "Michigan Deaths\n",
            "February Month Mean: 16.535714285714285\n",
            "March Month Mean: 7.533333333333333\n",
            "Walds w-statistics :\n",
            "17.964884199313513\n",
            "\n",
            "Reject Ho since the value of W statistic 17.964884199313513 is greater than threshold value 1.96\n",
            "\n",
            "\n"
          ]
        }
      ]
    },
    {
      "cell_type": "code",
      "source": [
        "#Defining the Z test \n",
        "\n",
        "def z_test(feb,march,true_dev):\n",
        "    feb_mean = feb.mean()\n",
        "    march_mean = march.mean()\n",
        "    print(\"February Month Mean: \"+str(feb_mean))\n",
        "    print(\"March Month Mean: \"+str(march_mean))\n",
        "\n",
        "    standard_error = true_dev/math.sqrt(len(march))\n",
        "    #computing the Z statistic \n",
        "    Z = np.abs((march_mean - feb_mean)/standard_error)\n",
        "    Z_alpha = 1.96\n",
        "    if(Z <= Z_alpha):\n",
        "        return \"Accept Ho since Z value is : \"+ str(Z)\n",
        "    else:\n",
        "        return \"Reject Ho since Z value is : \"+ str(Z)"
      ],
      "metadata": {
        "id": "RLsl8rW7EezA"
      },
      "execution_count": 230,
      "outputs": []
    },
    {
      "cell_type": "code",
      "source": [
        "print(\"Results:\\n\")\n",
        "print(\"Missouri Confirmed Cases\")\n",
        "print(z_test(feb_mo_cases,march_mo_cases,true_std_conf_MO))\n",
        "print(\"\\n\")\n",
        "print(\"Missouri Deaths\")\n",
        "print(z_test(feb_mo_deaths,march_mo_deaths,true_std_death_MO))\n",
        "print(\"\\n\")\n",
        "print(\"Michigan Confirmed Cases\")\n",
        "print(z_test(feb_mi_cases,march_mi_cases,true_std_conf_MI))\n",
        "print(\"\\n\")\n",
        "print(\"Michigan Deaths\")\n",
        "print(z_test(feb_mi_deaths,march_mi_deaths,true_std_death_MI))\n",
        "print(\"\\n\")"
      ],
      "metadata": {
        "colab": {
          "base_uri": "https://localhost:8080/"
        },
        "id": "54YRQdBfEiWV",
        "outputId": "d3b0f6ac-562e-4378-87f3-78c580c6cc31"
      },
      "execution_count": 231,
      "outputs": [
        {
          "output_type": "stream",
          "name": "stdout",
          "text": [
            "Results:\n",
            "\n",
            "Missouri Confirmed Cases\n",
            "February Month Mean: 1247.0714285714287\n",
            "March Month Mean: 3430.4333333333334\n",
            "Reject Ho since Z value is : 4.964275251149911\n",
            "\n",
            "\n",
            "Missouri Deaths\n",
            "February Month Mean: 29.285714285714285\n",
            "March Month Mean: 20.933333333333334\n",
            "Accept Ho since Z value is : 0.015095804379642795\n",
            "\n",
            "\n",
            "Michigan Confirmed Cases\n",
            "February Month Mean: 881.7857142857143\n",
            "March Month Mean: 543.7333333333333\n",
            "Accept Ho since Z value is : 0.7429281159635485\n",
            "\n",
            "\n",
            "Michigan Deaths\n",
            "February Month Mean: 16.535714285714285\n",
            "March Month Mean: 7.533333333333333\n",
            "Accept Ho since Z value is : 0.016225896355914024\n",
            "\n",
            "\n"
          ]
        }
      ]
    },
    {
      "cell_type": "code",
      "source": [
        "#T test \n",
        "\n",
        "def t_test(feb,march):\n",
        "    feb_mean = feb.mean()\n",
        "    march_mean = march.mean()\n",
        "    \n",
        "    # sample_standard_deviation = np.sqrt(np.sum(np.square(march - march_mean))/(len(march))) \n",
        "    sample_standard_deviation = np.sqrt((1 / (len(march - 1))) * sum(np.square(march - march_mean)))\n",
        "    denominator = sample_standard_deviation/math.sqrt(len(march))\n",
        "    #computing the T statistic \n",
        "    T = np.abs((march_mean - feb_mean)/denominator)\n",
        "    T_alpha = 2.04523\n",
        "    if(T <= T_alpha):\n",
        "        return \"Accept Ho since T value is \"+ str(T)\n",
        "    else:\n",
        "        return \"Reject Ho since T value is \"+ str(T)"
      ],
      "metadata": {
        "id": "VSr58kvEFZUs"
      },
      "execution_count": 232,
      "outputs": []
    },
    {
      "cell_type": "code",
      "source": [
        "print(\"The number of data points for the March month is : \" +str(len(march_cases)))\n",
        "print(\"Therefore the threshold value for T test for degree of freedom 29 and alpha/2 = 0.025 is 2.04523\")\n",
        "print(\"Missouri Confirmed Cases\")\n",
        "print(t_test(feb_mo_cases,march_mo_cases))\n",
        "print(\"\\n\")\n",
        "print(\"Missouri Deaths\")\n",
        "print(t_test(feb_mo_deaths,march_mo_deaths))\n",
        "print(\"\\n\")\n",
        "print(\"Michigan Confirmed Cases\")\n",
        "print(t_test(feb_mi_cases,march_mi_cases))\n",
        "print(\"\\n\")\n",
        "print(\"Michigan Deaths\")\n",
        "print(t_test(feb_mi_deaths,march_mi_deaths))\n",
        "print(\"\\n\")"
      ],
      "metadata": {
        "colab": {
          "base_uri": "https://localhost:8080/"
        },
        "id": "f2T09E4NFf3O",
        "outputId": "6807aff6-2014-4baf-9eaa-929ec2f04935"
      },
      "execution_count": 233,
      "outputs": [
        {
          "output_type": "stream",
          "name": "stdout",
          "text": [
            "The number of data points for the March month is : 30\n",
            "Therefore the threshold value for T test for degree of freedom 29 and alpha/2 = 0.025 is 2.04523\n",
            "Missouri Confirmed Cases\n",
            "Reject Ho since T value is 6.903600353750057\n",
            "\n",
            "\n",
            "Missouri Deaths\n",
            "Reject Ho since T value is 5.763893749279891\n",
            "\n",
            "\n",
            "Michigan Confirmed Cases\n",
            "Reject Ho since T value is 13.657101473555631\n",
            "\n",
            "\n",
            "Michigan Deaths\n",
            "Reject Ho since T value is 17.23782149635006\n",
            "\n",
            "\n"
          ]
        }
      ]
    },
    {
      "cell_type": "code",
      "source": [
        "#2 SAMPLE TESTS \n",
        "\n",
        "#Walds Test \n",
        "#null hypothesis is that both the means are equal, so theta0 = 0\n",
        "\n",
        "\n",
        "def walds_test_2(feb,march):\n",
        "    feb_mean = feb.mean()\n",
        "    march_mean = march.mean()\n",
        "    \n",
        "    standard_error = np.sqrt((feb_mean/len(feb)) + march_mean/len(march))\n",
        "    #w value of waltz\n",
        "    W = np.abs((feb_mean - march_mean)/standard_error)\n",
        "    Z_alpha = 1.96\n",
        "    if(W <= Z_alpha):\n",
        "        return \"Accept Ho since the value of W statistic \"+ str(W)+\" is less than threshold value 1.96\"\n",
        "    else:\n",
        "        return \"Reject Ho since the value of W statistic \"+ str(W)+\" is greater than threshold value 1.96\""
      ],
      "metadata": {
        "id": "vSct6hbSIFC2"
      },
      "execution_count": 234,
      "outputs": []
    },
    {
      "cell_type": "code",
      "source": [
        "print(\"Missouri Confirmed Cases\")\n",
        "print(walds_test_2(feb_mo_cases,march_mo_cases))\n",
        "print(\"\\n\")\n",
        "print(\"Missouri Deaths\")\n",
        "print(walds_test_2(feb_mo_deaths,march_mo_deaths))\n",
        "print(\"\\n\")\n",
        "print(\"Michigan Confirmed Cases\")\n",
        "print(walds_test_2(feb_mi_cases,march_mi_cases))\n",
        "print(\"\\n\")\n",
        "print(\"Michigan Deaths\")\n",
        "print(walds_test_2(feb_mi_deaths,march_mi_deaths))\n",
        "print(\"\\n\")"
      ],
      "metadata": {
        "colab": {
          "base_uri": "https://localhost:8080/"
        },
        "id": "1eCBAtLtIGvV",
        "outputId": "ae243e50-d6bc-4d4a-b0c7-7dc9a0c48267"
      },
      "execution_count": 235,
      "outputs": [
        {
          "output_type": "stream",
          "name": "stdout",
          "text": [
            "Missouri Confirmed Cases\n",
            "Reject Ho since the value of W statistic 173.2139453002994 is greater than threshold value 1.96\n",
            "\n",
            "\n",
            "Missouri Deaths\n",
            "Reject Ho since the value of W statistic 6.325209150992754 is greater than threshold value 1.96\n",
            "\n",
            "\n",
            "Michigan Confirmed Cases\n",
            "Reject Ho since the value of W statistic 47.99208975283848 is greater than threshold value 1.96\n",
            "\n",
            "\n",
            "Michigan Deaths\n",
            "Reject Ho since the value of W statistic 9.812639876251579 is greater than threshold value 1.96\n",
            "\n",
            "\n"
          ]
        }
      ]
    },
    {
      "cell_type": "code",
      "source": [
        "#Unpaired T test \n",
        "\n",
        "def t_test_2(feb,march):\n",
        "    feb_mean = feb.mean()\n",
        "    march_mean = march.mean()\n",
        "    D = feb_mean - march_mean\n",
        "    \n",
        "    standard_deviation_feb_square = (1/(len(feb)-1))*np.sum(np.square(feb-feb_mean))\n",
        "    standard_deviation_march_square = (1/(len(march)-1))*np.sum(np.square(march-march_mean))\n",
        "    \n",
        "    sample_pooled_standard_deviation = np.sqrt((standard_deviation_feb_square/len(feb)) + (standard_deviation_march_square/len(march)))\n",
        "    \n",
        "    #Calculating the T statistic:\n",
        "    T = np.abs(D/sample_pooled_standard_deviation)\n",
        "    T_alpha = 2.30687\n",
        "    if(T <= T_alpha):\n",
        "       return \"Accept Ho since the value of T statistic \"+ str(T)+\" is less than threshold value 2.30687\"\n",
        "    else:\n",
        "        return \"Reject Ho since the value of W statistic \"+ str(T)+\" is greater than threshold value 2.30687\""
      ],
      "metadata": {
        "id": "Wm8fzPOOIc9I"
      },
      "execution_count": 236,
      "outputs": []
    },
    {
      "cell_type": "code",
      "source": [
        "print(\"Results:\\n\")\n",
        "print(\"Missouri Confirmed Cases\")\n",
        "print(t_test_2(feb_mo_cases,march_mo_cases))\n",
        "print(\"\\n\")\n",
        "print(\"Missouri Deaths\")\n",
        "print(t_test_2(feb_mo_deaths,march_mo_deaths))\n",
        "print(\"\\n\")\n",
        "print(\"Michigan Confirmed Cases\")\n",
        "print(t_test_2(feb_mi_cases,march_mi_cases))\n",
        "print(\"\\n\")\n",
        "print(\"Michigan Deaths\")\n",
        "print(t_test_2(feb_mi_deaths,march_mi_deaths))"
      ],
      "metadata": {
        "colab": {
          "base_uri": "https://localhost:8080/"
        },
        "id": "EtqAB9zCIeVc",
        "outputId": "4931ab28-c644-42b2-e7f6-d8a031f6042f"
      },
      "execution_count": 237,
      "outputs": [
        {
          "output_type": "stream",
          "name": "stdout",
          "text": [
            "Results:\n",
            "\n",
            "Missouri Confirmed Cases\n",
            "Reject Ho since the value of W statistic 6.713277826100857 is greater than threshold value 2.30687\n",
            "\n",
            "\n",
            "Missouri Deaths\n",
            "Reject Ho since the value of W statistic 3.4732331223916315 is greater than threshold value 2.30687\n",
            "\n",
            "\n",
            "Michigan Confirmed Cases\n",
            "Reject Ho since the value of W statistic 3.85686572489355 is greater than threshold value 2.30687\n",
            "\n",
            "\n",
            "Michigan Deaths\n",
            "Reject Ho since the value of W statistic 7.343079178240679 is greater than threshold value 2.30687\n"
          ]
        }
      ]
    },
    {
      "cell_type": "code",
      "source": [
        "### Binomial distribution ###\n",
        "def get_binomial_value(data_state1, data_state2):\n",
        "    \"\"\"\n",
        "    Binomial CDF \n",
        "    parameter: state1_data, state2_data\n",
        "    \n",
        "    return: CDF, x_coordinates\n",
        "    \"\"\"\n",
        "    \n",
        "    # Calculate MME p_mme and n_mme value\n",
        "    mean = data_state1.mean()\n",
        "    variance = data_state1.var()\n",
        "    p_mme = 1 - (variance / mean)\n",
        "    n_mme = (mean ** 2)/(mean - variance)\n",
        "    print(\"p_mme is \", p_mme)\n",
        "    print(\"n_mme is \", n_mme)\n",
        "    F_D = []\n",
        "    for i in range(data_state2.shape[0]):\n",
        "        F_D.append(binom.cdf(data_state2[i], n_mme, p_mme))\n",
        "        \n",
        "    F_D = np.asarray(F_D)\n",
        "    F_D_dict = {}\n",
        "    for i in range(data_state2.shape[0]):\n",
        "        if data_state2[i] not in F_D_dict:\n",
        "            F_D_dict[data_state2[i]] = F_D[i]\n",
        "    keys = sorted(F_D_dict.keys())\n",
        "    CFD = []\n",
        "    for i in range(len(keys)):\n",
        "        CFD.append(F_D_dict[keys[i]])\n",
        "    return CFD, keys"
      ],
      "metadata": {
        "id": "C7pjpBxz97xJ"
      },
      "execution_count": 238,
      "outputs": []
    },
    {
      "cell_type": "code",
      "source": [
        "### Poission distribution ###\n",
        "def get_poisson_cdf_value(data_state1, data_state2):\n",
        "    \"\"\"\n",
        "    Poisson CDF \n",
        "    parameter: state1_data, state2_data\n",
        "    \n",
        "    return: CDF, x_coordinates\n",
        "    \"\"\"\n",
        "    # Calculate MME lambda_mme value equals mean\n",
        "    mean = data_state1.mean()\n",
        "    print('lambda is: ', mean)\n",
        "    sum_val = 0\n",
        "    F_D = []\n",
        "    for i in range(data_state2.shape[0]):\n",
        "        F_D.append(poisson.cdf(data_state2[i], mean))\n",
        "    F_D = np.asarray(F_D)\n",
        "    F_D_dict = {}\n",
        "    for i in range(data_state2.shape[0]):\n",
        "        if data_state2[i] not in F_D_dict:\n",
        "            F_D_dict[data_state2[i]] = F_D[i]\n",
        "    keys = sorted(F_D_dict.keys())\n",
        "    CFD = []\n",
        "    for i in range(len(keys)):\n",
        "        CFD.append(F_D_dict[keys[i]])\n",
        "    return CFD, keys"
      ],
      "metadata": {
        "id": "Ghxx6BtI979H"
      },
      "execution_count": 239,
      "outputs": []
    },
    {
      "cell_type": "code",
      "source": [
        "### Geometric distribution ###\n",
        "def get_geometric_cdf_value(data_state1, data_state2):\n",
        "    \"\"\"\n",
        "    Geometric CDF \n",
        "    parameter: state1_data, state2_data\n",
        "    \n",
        "    return: CDF, x_coordinates\n",
        "    \"\"\"\n",
        "    # Calculate MME p_mme value equals 1/mean\n",
        "    mean = data_state1.mean()\n",
        "    p_mme = 1/mean\n",
        "    print(\"p_mme is \",p_mme)\n",
        "    sum_val = 0\n",
        "    F_D = []\n",
        "    \n",
        "    for i in range(data_state2.shape[0]):\n",
        "        F_D.append((1 - ((1-p_mme) ** data_state2[i])))\n",
        "    F_D = np.asarray(F_D)\n",
        "    \n",
        "    F_D_dict = {}\n",
        "    for i in range(data_state2.shape[0]):\n",
        "        if data_state2[i] not in F_D_dict:\n",
        "            F_D_dict[data_state2[i]] = F_D[i]\n",
        "    keys = sorted(F_D_dict.keys())\n",
        "    CFD = []\n",
        "    for i in range(len(keys)):\n",
        "        CFD.append(F_D_dict[keys[i]])\n",
        "    return CFD, keys"
      ],
      "metadata": {
        "id": "c4axnscr97_l"
      },
      "execution_count": 240,
      "outputs": []
    },
    {
      "cell_type": "code",
      "source": [
        "### Calculate CDF ###\n",
        "def get_data_cdf(data):\n",
        "    pdf_dict = {}\n",
        "    for i in range(data.shape[0]):\n",
        "        if data[i] in pdf_dict:\n",
        "            pdf_dict[data[i]] += 1\n",
        "        else:\n",
        "            pdf_dict[data[i]] = 1\n",
        "    n = data.shape[0]\n",
        "    for i in pdf_dict:\n",
        "        pdf_dict[i] = pdf_dict[i]/n\n",
        "        \n",
        "    keys = sorted(pdf_dict.keys())\n",
        "    CDF = []\n",
        "    cumulate = 0\n",
        "    for i in keys:\n",
        "        cumulate += pdf_dict[i]\n",
        "        CDF.append(cumulate)\n",
        "    return CDF, keys"
      ],
      "metadata": {
        "id": "jIFHzflH98Bh"
      },
      "execution_count": 241,
      "outputs": []
    },
    {
      "cell_type": "code",
      "source": [
        "print(\"\\n\\n###### One Sample KS test ######\\n\")\n",
        "def one_sanmple_KS_test(x, F_x, F_x_cap):\n",
        "    \"\"\"\n",
        "    1-Sample CDF \n",
        "    parameter: data, state1_data, state2_data\n",
        "    \n",
        "    return: CDF, x_coordinates\n",
        "    \"\"\"\n",
        "    f_max = max((F_x[0] - 0), (F_x[0] - F_x_cap[0]))\n",
        "    j = 0\n",
        "    result = True\n",
        "    for i in range(1, len(x)):\n",
        "        if(f_max < (F_x[i] - F_x_cap[i-1])):\n",
        "            f_max = (F_x[i] - F_x_cap[i-1])\n",
        "            j = i\n",
        "        if(f_max < (F_x[i] - F_x_cap[i])):\n",
        "            f_max = (F_x[i] - F_x_cap[i])\n",
        "            j = i\n",
        "    print(\"Maximum distance is: \", f_max)\n",
        "    if(f_max > c):\n",
        "        result = False\n",
        "        print(\"Reject H_0\")\n",
        "    else:\n",
        "        print('Accpet H_0')\n",
        "    return f_max, result, j"
      ],
      "metadata": {
        "colab": {
          "base_uri": "https://localhost:8080/"
        },
        "id": "XbS79g3N98Cu",
        "outputId": "a9e17333-a2d1-4bd6-acab-04d561377d1d"
      },
      "execution_count": 242,
      "outputs": [
        {
          "output_type": "stream",
          "name": "stdout",
          "text": [
            "\n",
            "\n",
            "###### One Sample KS test ######\n",
            "\n"
          ]
        }
      ]
    },
    {
      "cell_type": "code",
      "source": [
        "def draw_all_for_ks(x_1, y_1, label_1, x_2, y_2, label_2, max_x):\n",
        "    t = \"eCDF\"\n",
        "    plt.title(t)\n",
        "    plt.step(x_1,y_1,label=label_1)\n",
        "    plt.step(x_2,y_2,label=label_2)\n",
        "    plt.axvline(max_x, 0, 1, label='maximum distance', color=\"red\")\n",
        "    plt.xlabel(\"X-axis\")\n",
        "    plt.ylabel(\"Y-axis\")\n",
        "    plt.legend(loc='center left', bbox_to_anchor=(1, 0.5))\n",
        "    plt.show()"
      ],
      "metadata": {
        "id": "R6958ShQAYz5"
      },
      "execution_count": 243,
      "outputs": []
    },
    {
      "cell_type": "code",
      "source": [
        "c = 0.05\n",
        "print(total_data.info())"
      ],
      "metadata": {
        "colab": {
          "base_uri": "https://localhost:8080/"
        },
        "id": "9CwyzthiBE1d",
        "outputId": "7d3ce6cc-a291-4dd5-a307-da4888b597d3"
      },
      "execution_count": 244,
      "outputs": [
        {
          "output_type": "stream",
          "name": "stdout",
          "text": [
            "<class 'pandas.core.frame.DataFrame'>\n",
            "Int64Index: 727 entries, 0 to 839\n",
            "Data columns (total 7 columns):\n",
            " #   Column        Non-Null Count  Dtype         \n",
            "---  ------        --------------  -----         \n",
            " 0   Date          727 non-null    datetime64[ns]\n",
            " 1   new_case_MO   727 non-null    int64         \n",
            " 2   new_case_MI   727 non-null    int64         \n",
            " 3   new_death_MO  727 non-null    int64         \n",
            " 4   new_death_MI  727 non-null    int64         \n",
            " 5   Year          727 non-null    int64         \n",
            " 6   Month         727 non-null    int64         \n",
            "dtypes: datetime64[ns](1), int64(6)\n",
            "memory usage: 45.4 KB\n",
            "None\n"
          ]
        }
      ]
    },
    {
      "cell_type": "code",
      "source": [
        "total_data = total_data.loc[(total_data[\"Month\"] >= 10) & (total_data[\"Month\"] <= 12) & (total_data[\"Year\"] == 2021)]\n",
        "print(total_data)\n",
        "total_data = total_data.drop(columns=[\"Date\", \"Year\", \"Month\"])\n",
        "columns = total_data.columns\n",
        "total_data_npy = total_data.to_numpy().astype(\"int\")\n"
      ],
      "metadata": {
        "colab": {
          "base_uri": "https://localhost:8080/"
        },
        "id": "kXNKNQAZE_B8",
        "outputId": "ac8cfc64-e026-42f2-f28b-8ed01a204e37"
      },
      "execution_count": 245,
      "outputs": [
        {
          "output_type": "stream",
          "name": "stdout",
          "text": [
            "          Date  new_case_MO  new_case_MI  new_death_MO  new_death_MI  Year  \\\n",
            "618 2021-10-01         4774         1724            32             7  2021   \n",
            "619 2021-10-02         3271         1010            14             2  2021   \n",
            "620 2021-10-03         3271          762            14             0  2021   \n",
            "621 2021-10-04         3274         1181            17           140  2021   \n",
            "622 2021-10-05         4352         1932            35            12  2021   \n",
            "..         ...          ...          ...           ...           ...   ...   \n",
            "701 2021-12-23            0         6468             0            11  2021   \n",
            "702 2021-12-24            0           17             0             0  2021   \n",
            "703 2021-12-25            0            0             0             0  2021   \n",
            "704 2021-12-26            0            0             0             0  2021   \n",
            "709 2021-12-31            0            0             0             0  2021   \n",
            "\n",
            "     Month  \n",
            "618     10  \n",
            "619     10  \n",
            "620     10  \n",
            "621     10  \n",
            "622     10  \n",
            "..     ...  \n",
            "701     12  \n",
            "702     12  \n",
            "703     12  \n",
            "704     12  \n",
            "709     12  \n",
            "\n",
            "[68 rows x 7 columns]\n"
          ]
        }
      ]
    },
    {
      "cell_type": "code",
      "source": [
        "\n",
        "flag = True\n",
        "print(\"#########Poission destribution#########\")\n",
        "for i in range(0, 4, 2):\n",
        "    if flag:\n",
        "        print(\"Confirmed cases for MO(State1) and MI(State2)\")\n",
        "    else:\n",
        "        print(\"Confirmed deaths for MO(State1) and MI(State2)\")\n",
        "    flag = not flag\n",
        "\n",
        "    CDF_geometric, X_geometric = get_poisson_cdf_value(total_data_npy[:, i], total_data_npy[:, i + 1])\n",
        "    CDF_data, X_data = get_data_cdf(total_data_npy[:, i + 1])\n",
        "    f_max, result, max_x = one_sanmple_KS_test(X_data, CDF_geometric, CDF_data)\n",
        "    draw_all_for_ks(\n",
        "        X_data, CDF_geometric, \"Poission\", X_data, CDF_data, \"Data\", X_data[max_x]\n",
        "    )"
      ],
      "metadata": {
        "colab": {
          "base_uri": "https://localhost:8080/",
          "height": 734
        },
        "id": "bYwqZrbCBE7w",
        "outputId": "26a01f51-4f4f-4be0-f965-5ddec098d851"
      },
      "execution_count": 246,
      "outputs": [
        {
          "output_type": "stream",
          "name": "stdout",
          "text": [
            "#########Poission destribution#########\n",
            "Confirmed cases for MO(State1) and MI(State2)\n",
            "lambda is:  3973.205882352941\n",
            "Maximum distance is:  0.04032134504937168\n",
            "Accpet H_0\n"
          ]
        },
        {
          "output_type": "display_data",
          "data": {
            "text/plain": [
              "<Figure size 432x288 with 1 Axes>"
            ],
            "image/png": "[encoded data removed]"
          },
          "metadata": {
            "needs_background": "light"
          }
        },
        {
          "output_type": "stream",
          "name": "stdout",
          "text": [
            "Confirmed deaths for MO(State1) and MI(State2)\n",
            "lambda is:  22.220588235294116\n",
            "Maximum distance is:  0.04411764705882382\n",
            "Accpet H_0\n"
          ]
        },
        {
          "output_type": "display_data",
          "data": {
            "text/plain": [
              "<Figure size 432x288 with 1 Axes>"
            ],
            "image/png": "[encoded data removed]"
          },
          "metadata": {
            "needs_background": "light"
          }
        }
      ]
    },
    {
      "cell_type": "code",
      "source": [
        "print(\"#########Geometric destribution#########\")\n",
        "for i in range(0, 4, 2):\n",
        "    if flag:\n",
        "        print(\"Confirmed cases for MO(State1) and MI(State2)\")\n",
        "    else:\n",
        "        print(\"Confirmed deaths for MO(State1) and MI(State2)\")\n",
        "    flag = not flag\n",
        "\n",
        "    CDF_geometric, X_geometric = get_geometric_cdf_value(total_data_npy[:, i], total_data_npy[:, i + 1])\n",
        "    CDF_data, X_data = get_data_cdf(total_data_npy[:, i + 1])\n",
        "    f_max, result, max_x = one_sanmple_KS_test(X_data, CDF_geometric, CDF_data)\n",
        "    draw_all_for_ks(\n",
        "        X_data, CDF_geometric, \"Geometric\", X_data, CDF_data, \"Data\", X_data[max_x]\n",
        "    )"
      ],
      "metadata": {
        "colab": {
          "base_uri": "https://localhost:8080/",
          "height": 734
        },
        "id": "RTTxuSkOBE9-",
        "outputId": "891cdf5c-39c2-41c4-e81c-e9b06234c8b1"
      },
      "execution_count": 247,
      "outputs": [
        {
          "output_type": "stream",
          "name": "stdout",
          "text": [
            "#########Geometric destribution#########\n",
            "Confirmed cases for MO(State1) and MI(State2)\n",
            "p_mme is  0.0002516859255749913\n",
            "Maximum distance is:  0.00728627808293783\n",
            "Accpet H_0\n"
          ]
        },
        {
          "output_type": "display_data",
          "data": {
            "text/plain": [
              "<Figure size 432x288 with 1 Axes>"
            ],
            "image/png": "[encoded data removed]"
          },
          "metadata": {
            "needs_background": "light"
          }
        },
        {
          "output_type": "stream",
          "name": "stdout",
          "text": [
            "Confirmed deaths for MO(State1) and MI(State2)\n",
            "p_mme is  0.045003309066843154\n",
            "Maximum distance is:  0.02321714072706682\n",
            "Accpet H_0\n"
          ]
        },
        {
          "output_type": "display_data",
          "data": {
            "text/plain": [
              "<Figure size 432x288 with 1 Axes>"
            ],
            "image/png": "[encoded data removed]"
          },
          "metadata": {
            "needs_background": "light"
          }
        }
      ]
    },
    {
      "cell_type": "code",
      "source": [
        "print(\"#########Binomial destribution#########\")\n",
        "for i in range(0, 4, 2):\n",
        "    if flag:\n",
        "        print(\"Confirmed cases for MO(State1) and MI(State2)\")\n",
        "    else:\n",
        "        print(\"Confirmed deaths for MO(State1) and MI(State2)\")\n",
        "    flag = not flag\n",
        "\n",
        "    CDF_geometric, X_geometric = get_binomial_value(total_data_npy[:, i], total_data_npy[:, i + 1])\n",
        "    CDF_data, X_data = get_data_cdf(total_data_npy[:, i + 1])\n",
        "    f_max, result, max_x = one_sanmple_KS_test(X_data, CDF_geometric, CDF_data)\n",
        "    draw_all_for_ks(\n",
        "        X_data, CDF_geometric, \"Binomial\", X_data, CDF_data, \"Data\", X_data[max_x]\n",
        "    )"
      ],
      "metadata": {
        "colab": {
          "base_uri": "https://localhost:8080/",
          "height": 769
        },
        "id": "XZZ1CY_ZBTQs",
        "outputId": "a47baf25-83f0-406d-a6f8-a82d8628ea95"
      },
      "execution_count": 248,
      "outputs": [
        {
          "output_type": "stream",
          "name": "stdout",
          "text": [
            "#########Binomial destribution#########\n",
            "Confirmed cases for MO(State1) and MI(State2)\n",
            "p_mme is  -3601.2680644524985\n",
            "n_mme is  -1.103279681279985\n",
            "Maximum distance is:  1.0\n",
            "Reject H_0\n"
          ]
        },
        {
          "output_type": "display_data",
          "data": {
            "text/plain": [
              "<Figure size 432x288 with 1 Axes>"
            ],
            "image/png": "[encoded data removed]"
          },
          "metadata": {
            "needs_background": "light"
          }
        },
        {
          "output_type": "stream",
          "name": "stdout",
          "text": [
            "Confirmed deaths for MO(State1) and MI(State2)\n",
            "p_mme is  -28.86875656947093\n",
            "n_mme is  -0.7697106102170215\n",
            "Maximum distance is:  nan\n",
            "Accpet H_0\n"
          ]
        },
        {
          "output_type": "display_data",
          "data": {
            "text/plain": [
              "<Figure size 432x288 with 1 Axes>"
            ],
            "image/png": "[encoded data removed]"
          },
          "metadata": {
            "needs_background": "light"
          }
        }
      ]
    },
    {
      "cell_type": "code",
      "source": [
        "print(\"\\n\\n###### Two Sample KS Test ######\\n\")\n",
        "\n",
        "\n",
        "def two_sample_KS(state1, state2):\n",
        "    sort_state1 = np.sort(state1)\n",
        "    sort_state2 = np.sort(state2)\n",
        "\n",
        "    size = int(max(max(sort_state1), max(sort_state2)))\n",
        "    serched1 = np.ones(size)\n",
        "    serched2 = np.ones(size)\n",
        "    max_cdf_dist = 0\n",
        "    max_distance = 0\n",
        "\n",
        "    for i in range(int(max(max(sort_state1), max(sort_state2)))):\n",
        "        serched1[i] = np.searchsorted(state1, i, side=\"right\") / len(state1)\n",
        "        serched2[i] = np.searchsorted(state2, i, side=\"right\") / len(state2)\n",
        "\n",
        "        temp_max_distance = max(\n",
        "            abs(serched1[i] - serched2[i]),\n",
        "            abs(np.searchsorted(state1, i, side=\"left\") / len(state1) - serched2[i]),\n",
        "        )\n",
        "        if temp_max_distance > max_cdf_dist:\n",
        "            max_cdf_dist = temp_max_distance\n",
        "            max_distance = i\n",
        "\n",
        "    print(\"Maximum distance is: \", max_cdf_dist)\n",
        "    if max_cdf_dist > c:\n",
        "        print(\"Reject H_0\")\n",
        "    else:\n",
        "        print(\"Accept H_0\")\n",
        "\n",
        "    CDF_1, keys1 = get_data_cdf(state1)\n",
        "    CDF_2, keys2 = get_data_cdf(state2)\n",
        "    draw_all_for_ks(keys1, CDF_1, \"state1\", keys2, CDF_2, \"state2\", max_distance)\n",
        "    print(\"#################################################\")\n",
        "\n",
        "\n",
        "for i in range(0, 4, 2):\n",
        "    if flag:\n",
        "        print(\"Confirmed cases for MO(State1) and MI(State2)\")\n",
        "    else:\n",
        "        print(\"Confirmed deaths for MO(State1) and MI(State2)\")\n",
        "    flag = not flag\n",
        "    two_sample_KS(total_data_npy[:, i], total_data_npy[:, i + 1])\n"
      ],
      "metadata": {
        "colab": {
          "base_uri": "https://localhost:8080/",
          "height": 787
        },
        "id": "BbfP7FQqBVg-",
        "outputId": "650e688c-7ccf-428c-fd84-d0db7b2f6024"
      },
      "execution_count": 249,
      "outputs": [
        {
          "output_type": "stream",
          "name": "stdout",
          "text": [
            "\n",
            "\n",
            "###### Two Sample KS Test ######\n",
            "\n",
            "Confirmed cases for MO(State1) and MI(State2)\n",
            "Maximum distance is:  0.6617647058823529\n",
            "Reject H_0\n"
          ]
        },
        {
          "output_type": "display_data",
          "data": {
            "text/plain": [
              "<Figure size 432x288 with 1 Axes>"
            ],
            "image/png": "[encoded data removed]"
          },
          "metadata": {
            "needs_background": "light"
          }
        },
        {
          "output_type": "stream",
          "name": "stdout",
          "text": [
            "#################################################\n",
            "Confirmed deaths for MO(State1) and MI(State2)\n",
            "Maximum distance is:  0.8088235294117647\n",
            "Reject H_0\n"
          ]
        },
        {
          "output_type": "display_data",
          "data": {
            "text/plain": [
              "<Figure size 432x288 with 1 Axes>"
            ],
            "image/png": "[encoded data removed]"
          },
          "metadata": {
            "needs_background": "light"
          }
        },
        {
          "output_type": "stream",
          "name": "stdout",
          "text": [
            "#################################################\n"
          ]
        }
      ]
    },
    {
      "cell_type": "code",
      "source": [
        "print(\"\\n\\n###### Permutation test ######\\n\")\n",
        "\n",
        "\n",
        "def permutation_test(state1, state2):\n",
        "    data_combined = np.append(state1, state2)\n",
        "    state1 = list(state1)\n",
        "    state2 = list(state2)\n",
        "    df_numpy = df.to_numpy()\n",
        "\n",
        "    T_obs = abs(np.asarray(state2).mean() - np.asarray(state1).mean())\n",
        "    split = len(state1)\n",
        "    n = 1000\n",
        "    c = 0.05\n",
        "    temp_set = data_combined.copy()\n",
        "    sum_of_mean_diff = 0\n",
        "    for i in range(n):\n",
        "        np.random.seed(i)\n",
        "        np.random.shuffle(temp_set)\n",
        "        D1_temp = temp_set[:split]\n",
        "        D2_temp = temp_set[split:]\n",
        "        D1_temp_mean = D1_temp.mean()\n",
        "        D2_temp_mean = D2_temp.mean()\n",
        "        T_i = abs(D2_temp_mean - D1_temp_mean)\n",
        "        if T_i > T_obs:\n",
        "            sum_of_mean_diff += 1\n",
        "    p_value = sum_of_mean_diff / n\n",
        "    print(\"p-value = \", p_value)\n",
        "    if p_value <= c:\n",
        "        print(\"Reject H_0\")\n",
        "    else:\n",
        "        print(\"Accept H_0\")\n",
        "    print(\"#################################################\")\n",
        "\n",
        "\n",
        "for i in range(0, 4, 2):\n",
        "    if flag:\n",
        "        print(\"Confirmed cases for MO(State1) and MI(State2)\")\n",
        "    else:\n",
        "        print(\"Confirmed deaths for MO(State1) and MI(State2)\")\n",
        "    flag = not flag\n",
        "    permutation_test(total_data_npy[:, i], total_data_npy[:, i + 1])\n"
      ],
      "metadata": {
        "colab": {
          "base_uri": "https://localhost:8080/",
          "height": 0
        },
        "id": "7iYTB_IgBVpd",
        "outputId": "5903dc9e-94f4-4d3c-8be5-673d7518b185"
      },
      "execution_count": 121,
      "outputs": [
        {
          "output_type": "stream",
          "name": "stdout",
          "text": [
            "\n",
            "\n",
            "###### Permutation test ######\n",
            "\n",
            "Confirmed cases for NH(State1) and NJ(State2)\n",
            "p-value =  0.0\n",
            "Reject H_0\n",
            "#################################################\n",
            "Confirmed deaths for NH(State1) and NJ(State2)\n",
            "p-value =  0.0\n",
            "Reject H_0\n",
            "#################################################\n"
          ]
        }
      ]
    }
  ]
}